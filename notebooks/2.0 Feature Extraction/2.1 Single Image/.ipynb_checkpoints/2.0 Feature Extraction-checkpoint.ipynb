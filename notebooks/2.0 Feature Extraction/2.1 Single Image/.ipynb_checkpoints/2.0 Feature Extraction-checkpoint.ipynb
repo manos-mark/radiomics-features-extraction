{
 "cells": [
  {
   "cell_type": "markdown",
   "metadata": {},
   "source": [
    "# 2.1 Feature Extraction"
   ]
  },
  {
   "cell_type": "markdown",
   "metadata": {},
   "source": [
    "**The first step is to import the image or the batch of images that we want to process. For the purpose of this project our masks (ROI) are already segmented.**"
   ]
  },
  {
   "cell_type": "markdown",
   "metadata": {},
   "source": [
    "On average, Pyradiomics extracts ≈1500 features per image, which consist of the 16 shape descriptors and features extracted from original and derived images (LoG with 5 sigma levels, 1 level of Wavelet decomposistions yielding 8 derived images and images derived using Square, Square Root, Logarithm and Exponential filters).\n",
    "\n",
    "Detailed description on feature classes and individual features is provided in section [Radiomic Features](https://pyradiomics.readthedocs.io/en/latest/features.html#radiomics-features-label) of the documentation."
   ]
  },
  {
   "cell_type": "markdown",
   "metadata": {},
   "source": [
    "This example shows how to use the radiomics package and the feature extractor.\n",
    "The feature extractor handles preprocessing, and then calls the needed featureclasses to calculate the features.\n",
    "It is also possible to directly instantiate the feature classes. However, this is not recommended for use outside debugging or development."
   ]
  },
  {
   "cell_type": "markdown",
   "metadata": {},
   "source": [
    "## 2.1.1 Single image"
   ]
  },
  {
   "cell_type": "markdown",
   "metadata": {},
   "source": [
    "### Setting up data\n",
    "\n",
    "First, import some built-in Python modules needed to get our testing data.\n",
    "Second, import the toolbox, only the `featureextractor` is needed, this module handles the interaction with other parts of the toolbox.\n",
    "\n",
    "Here we use `SimpleITK` (referenced as `sitk`, see http://www.simpleitk.org/ for details) to load two brain images and the corresponding segmentations as label maps."
   ]
  },
  {
   "cell_type": "code",
   "execution_count": 4,
   "metadata": {},
   "outputs": [],
   "source": [
    "%matplotlib inline\n",
    "import matplotlib.pyplot as plt\n",
    "\n",
    "# from __future__ import print_function\n",
    "import six\n",
    "import os  # needed navigate the system to get the input data\n",
    "import SimpleITK as sitk\n",
    "import logging\n",
    "from radiomics import getTestCase\n",
    "import radiomics\n",
    "from radiomics import featureextractor  # This module is used for interaction with pyradiomics"
   ]
  },
  {
   "cell_type": "markdown",
   "metadata": {},
   "source": [
    "Set up logging to a log file"
   ]
  },
  {
   "cell_type": "code",
   "execution_count": 5,
   "metadata": {},
   "outputs": [],
   "source": [
    "# Get the PyRadiomics logger (default log-level = INFO)\n",
    "logger = radiomics.logger\n",
    "logger.setLevel(logging.DEBUG)  # set level to DEBUG to include debug log messages in log file\n",
    "\n",
    "# Write out all log entries to a file\n",
    "handler = logging.FileHandler(filename='testLog.txt', mode='w')\n",
    "formatter = logging.Formatter('%(levelname)s:%(name)s: %(message)s')\n",
    "handler.setFormatter(formatter)\n",
    "logger.addHandler(handler)"
   ]
  },
  {
   "cell_type": "code",
   "execution_count": null,
   "metadata": {},
   "outputs": [],
   "source": [
    "# repositoryRoot points to the root of the repository. The following line gets that location if this Notebook is run\n",
    "# from it's default location in \\radiomics\\thesis-paper\\notebooks\n",
    "data_path = os.path.join(\"data\", \"pyradiomics_data\")\n",
    "print(\"Data Path: \", data_path)\n",
    "imagepath_1, labelpath_1 = getTestCase('brain1', data_path)\n",
    "\n",
    "if imagepath_1 is None or labelpath_1 is None:  # Something went wrong, in this case PyRadiomics will also log an error\n",
    "    raise Exception('Error getting testcase!')  # Raise exception to prevent cells below from running in case of \"run all\"\n",
    "    \n",
    "image_1 = sitk.ReadImage(imagepath_1)\n",
    "label_1 = sitk.ReadImage(labelpath_1)"
   ]
  },
  {
   "cell_type": "markdown",
   "metadata": {},
   "source": [
    "### Show the image\n",
    "\n",
    "Using `matplotlib.pyplot` (referenced as `plt`), display the images in grayscale and labels in color."
   ]
  },
  {
   "cell_type": "code",
   "execution_count": null,
   "metadata": {},
   "outputs": [],
   "source": [
    "plt.figure(figsize=(20,20))\n",
    "# First image\n",
    "plt.subplot(2,2,1)\n",
    "plt.imshow(sitk.GetArrayFromImage(image_1)[12,:,:], cmap=\"gray\")\n",
    "plt.title(\"Brain #1\")\n",
    "plt.subplot(2,2,2)\n",
    "plt.imshow(sitk.GetArrayFromImage(label_1)[12,:,:])        \n",
    "plt.title(\"Segmentation #1\")\n",
    "\n",
    "plt.show()"
   ]
  },
  {
   "cell_type": "markdown",
   "metadata": {},
   "source": [
    "### Instantiating the extractor"
   ]
  },
  {
   "cell_type": "markdown",
   "metadata": {},
   "source": [
    "Now that we have our input, we need to define the parameters and instantiate the extractor.\n",
    "For this there are five possibilities:\n",
    "\n",
    "**1. Use defaults, don't define custom settings**\n",
    "\n",
    "```\n",
    "extractor = featureextractor.RadiomicsFeatureExtractor()\n",
    "```\n",
    "\n",
    "**2. Define parameters in a dictionary**\n",
    "\n",
    "```\n",
    "# First define the settings\n",
    "settings = {}\n",
    "settings['binWidth'] = 20\n",
    "settings['sigma'] = [1, 2, 3]\n",
    "\n",
    "# Instantiate the extractor\n",
    "extractor = featureextractor.RadiomicsFeatureExtractor(**settings)\n",
    "```\n",
    "\n",
    "**3. Define parameters in the constructor**\n",
    "\n",
    "```\n",
    "extractor = featureextractor.RadiomicsFeatureExtractor(binWidth=20, sigma=[1, 2, 3])\n",
    "```\n",
    "\n",
    "**4. Control filters and features after initialisation**\n",
    "\n",
    "```\n",
    "extractor.enableImageTypeByName('LoG')\n",
    "\n",
    "# Disable all feature classes, save firstorder\n",
    "extractor.disableAllFeatures()\n",
    "extractor.enableFeatureClassByName('firstorder')\n",
    "\n",
    "# Specify some additional features in the GLCM feature class\n",
    "extractor.enableFeaturesByName(glcm=['Autocorrelation', 'Homogeneity1', 'SumSquares'])\n",
    "```\n",
    "\n",
    "**5. Use a parameter file**\n",
    "\n",
    "```\n",
    "paramsPath = os.path.join('..', 'examples', 'exampleSettings', 'Params.yaml')\n",
    "extractor = featureextractor.RadiomicsFeatureExtractor(paramsPath)\n",
    "```"
   ]
  },
  {
   "cell_type": "code",
   "execution_count": 20,
   "metadata": {},
   "outputs": [
    {
     "name": "stdout",
     "output_type": "stream",
     "text": [
      "Extraction parameters:\n",
      "\t {'minimumROIDimensions': 2, 'minimumROISize': None, 'normalize': False, 'normalizeScale': 1, 'removeOutliers': None, 'resampledPixelSpacing': None, 'interpolator': 'sitkBSpline', 'preCrop': False, 'padDistance': 5, 'distances': [1], 'force2D': False, 'force2Ddimension': 0, 'resegmentRange': None, 'label': 1, 'additionalInfo': True}\n",
      "Enabled filters:\n",
      "\t {'Original': {}}\n",
      "Enabled features:\n",
      "\t {'firstorder': [], 'glcm': [], 'gldm': [], 'glrlm': [], 'glszm': [], 'ngtdm': [], 'shape': [], 'shape2D': []}\n"
     ]
    }
   ],
   "source": [
    "# Instantiate the extractor\n",
    "extractor = featureextractor.RadiomicsFeatureExtractor()\n",
    "\n",
    "# Enable all features\n",
    "extractor.enableAllFeatures()\n",
    "\n",
    "# Alternative; only enable 'Mean' and 'Skewness' features in firstorder\n",
    "# extractor.enableFeaturesByName(firstorder=['Mean', 'Skewness'])\n",
    "\n",
    "print('Extraction parameters:\\n\\t', extractor.settings)\n",
    "print('Enabled filters:\\n\\t', extractor.enabledImagetypes)\n",
    "print('Enabled features:\\n\\t', extractor.enabledFeatures)"
   ]
  },
  {
   "cell_type": "markdown",
   "metadata": {},
   "source": [
    "### Getting the docstrings of the active features\n"
   ]
  },
  {
   "cell_type": "code",
   "execution_count": null,
   "metadata": {},
   "outputs": [],
   "source": [
    "print('Active features:')\n",
    "for cls, features in six.iteritems(extractor.enabledFeatures):\n",
    "    if len(features) == 0:\n",
    "        features = [f for f, deprecated in six.iteritems(featureClasses[cls].getFeatureNames()) if not deprecated]\n",
    "    for f in features:\n",
    "        print(f)\n",
    "        print(getattr(featureClasses[cls], 'get%sFeatureValue' % f).__doc__)"
   ]
  },
  {
   "cell_type": "markdown",
   "metadata": {},
   "source": [
    "### Extract features\n",
    "Now that we have our extractor set up with the correct parameters, we can start extracting features:"
   ]
  },
  {
   "cell_type": "code",
   "execution_count": null,
   "metadata": {},
   "outputs": [],
   "source": [
    "result = extractor.execute(imagePath, maskPath)"
   ]
  },
  {
   "cell_type": "code",
   "execution_count": null,
   "metadata": {},
   "outputs": [],
   "source": []
  },
  {
   "cell_type": "code",
   "execution_count": null,
   "metadata": {},
   "outputs": [],
   "source": [
    "print('Result type:', type(result))  # result is returned in a Python ordered dictionary)\n",
    "print('')\n",
    "print('Calculated features')\n",
    "for key, value in six.iteritems(result):\n",
    "    print('\\t', key, ':', value)"
   ]
  }
 ],
 "metadata": {
  "kernelspec": {
   "display_name": "Python 3",
   "language": "python",
   "name": "python3"
  }
 },
 "nbformat": 4,
 "nbformat_minor": 2
}
