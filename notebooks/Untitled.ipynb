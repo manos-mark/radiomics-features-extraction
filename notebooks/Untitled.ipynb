{
 "cells": [
  {
   "cell_type": "code",
   "execution_count": 1,
   "metadata": {},
   "outputs": [],
   "source": [
    "import radiomics"
   ]
  },
  {
   "cell_type": "code",
   "execution_count": 3,
   "metadata": {},
   "outputs": [
    {
     "data": {
      "text/plain": [
       "{'firstorder': radiomics.firstorder.RadiomicsFirstOrder,\n",
       " 'glcm': radiomics.glcm.RadiomicsGLCM,\n",
       " 'gldm': radiomics.gldm.RadiomicsGLDM,\n",
       " 'glrlm': radiomics.glrlm.RadiomicsGLRLM,\n",
       " 'glszm': radiomics.glszm.RadiomicsGLSZM,\n",
       " 'ngtdm': radiomics.ngtdm.RadiomicsNGTDM,\n",
       " 'shape': radiomics.shape.RadiomicsShape,\n",
       " 'shape2D': radiomics.shape2D.RadiomicsShape2D}"
      ]
     },
     "execution_count": 3,
     "metadata": {},
     "output_type": "execute_result"
    }
   ],
   "source": [
    "radiomics.getFeatureClasses()"
   ]
  },
  {
   "cell_type": "code",
   "execution_count": 5,
   "metadata": {},
   "outputs": [
    {
     "data": {
      "text/plain": [
       "['Exponential',\n",
       " 'Gradient',\n",
       " 'LBP2D',\n",
       " 'LBP3D',\n",
       " 'LoG',\n",
       " 'Logarithm',\n",
       " 'Original',\n",
       " 'Square',\n",
       " 'SquareRoot',\n",
       " 'Wavelet']"
      ]
     },
     "execution_count": 5,
     "metadata": {},
     "output_type": "execute_result"
    }
   ],
   "source": [
    "radiomics.getImageTypes()"
   ]
  },
  {
   "cell_type": "code",
   "execution_count": 6,
   "metadata": {},
   "outputs": [
    {
     "data": {
      "text/plain": [
       "('/home/manos/anaconda3/envs/radiomics/lib/python3.6/site-packages/radiomics/schemas/paramSchema.yaml',\n",
       " '/home/manos/anaconda3/envs/radiomics/lib/python3.6/site-packages/radiomics/schemas/schemaFuncs.py')"
      ]
     },
     "execution_count": 6,
     "metadata": {},
     "output_type": "execute_result"
    }
   ],
   "source": [
    "radiomics.getParameterValidationFiles()"
   ]
  },
  {
   "cell_type": "code",
   "execution_count": null,
   "metadata": {},
   "outputs": [],
   "source": []
  }
 ],
 "metadata": {
  "kernelspec": {
   "display_name": "Python 3",
   "language": "python",
   "name": "python3"
  },
  "language_info": {
   "codemirror_mode": {
    "name": "ipython",
    "version": 3
   },
   "file_extension": ".py",
   "mimetype": "text/x-python",
   "name": "python",
   "nbconvert_exporter": "python",
   "pygments_lexer": "ipython3",
   "version": "3.6.10"
  }
 },
 "nbformat": 4,
 "nbformat_minor": 4
}
