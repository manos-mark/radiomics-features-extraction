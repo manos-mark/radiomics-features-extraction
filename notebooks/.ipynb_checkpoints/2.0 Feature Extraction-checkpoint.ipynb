{
 "cells": [
  {
   "cell_type": "markdown",
   "metadata": {},
   "source": [
    "# 2.0 Feature Extraction"
   ]
  },
  {
   "cell_type": "markdown",
   "metadata": {},
   "source": [
    "**The first step is to import the image or the batch of images that we want to process. For the purpose of this project our masks (ROI) are already segmented.**"
   ]
  },
  {
   "cell_type": "markdown",
   "metadata": {},
   "source": [
    "On average, Pyradiomics extracts ≈1500 features per image, which consist of the 16 shape descriptors and features extracted from original and derived images (LoG with 5 sigma levels, 1 level of Wavelet decomposistions yielding 8 derived images and images derived using Square, Square Root, Logarithm and Exponential filters).\n",
    "\n",
    "Detailed description on feature classes and individual features is provided in section [Radiomic Features](https://pyradiomics.readthedocs.io/en/latest/features.html#radiomics-features-label) of the documentation."
   ]
  },
  {
   "cell_type": "markdown",
   "metadata": {},
   "source": [
    "## 2.1.1 Single image"
   ]
  },
  {
   "cell_type": "markdown",
   "metadata": {},
   "source": [
    "### Setting up data\n",
    "\n",
    "First, import some built-in Python modules needed to get our testing data.\n",
    "Second, import the toolbox, only the `featureextractor` is needed, this module handles the interaction with other parts of the toolbox.\n",
    "\n",
    "Here we use `SimpleITK` (referenced as `sitk`, see http://www.simpleitk.org/ for details) to load two brain images and the corresponding segmentations as label maps."
   ]
  },
  {
   "cell_type": "code",
   "execution_count": 3,
   "metadata": {},
   "outputs": [],
   "source": [
    "%matplotlib inline\n",
    "import matplotlib.pyplot as plt\n",
    "\n",
    "# from __future__ import print_function\n",
    "import six\n",
    "import os  # needed navigate the system to get the input data\n",
    "import SimpleITK as sitk\n",
    "\n",
    "from radiomics import getTestCase\n",
    "import radiomics\n",
    "from radiomics import featureextractor  # This module is used for interaction with pyradiomics"
   ]
  },
  {
   "cell_type": "code",
   "execution_count": 4,
   "metadata": {},
   "outputs": [
    {
     "name": "stdout",
     "output_type": "stream",
     "text": [
      "/home/manos/git/radiomics-thesis-paper/data\n"
     ]
    }
   ],
   "source": [
    "# repositoryRoot points to the root of the repository. The following line gets that location if this Notebook is run\n",
    "# from it's default location in \\radiomics\\thesis-paper\\notebooks\n",
    "data_path = os.path.abspath(os.path.join(os.getcwd(), \"../data/pyradiomics_data\"))\n",
    "print(data_path)\n",
    "# imagepath_1, labelpath_1 = getTestCase('brain1', data_path)\n",
    "# image_1 = sitk.ReadImage(imagepath_1)\n",
    "# label_1 = sitk.ReadImage(labelpath_1)"
   ]
  },
  {
   "cell_type": "markdown",
   "metadata": {},
   "source": [
    "### Show the image\n",
    "\n",
    "Using `matplotlib.pyplot` (referenced as `plt`), display the images in grayscale and labels in color."
   ]
  },
  {
   "cell_type": "code",
   "execution_count": null,
   "metadata": {},
   "outputs": [],
   "source": [
    "plt.figure(figsize=(20,20))\n",
    "# First image\n",
    "plt.subplot(2,2,1)\n",
    "plt.imshow(sitk.GetArrayFromImage(image_1)[12,:,:], cmap=\"gray\")\n",
    "plt.title(\"Brain #1\")\n",
    "plt.subplot(2,2,2)\n",
    "plt.imshow(sitk.GetArrayFromImage(label_1)[12,:,:])        \n",
    "plt.title(\"Segmentation #1\")\n",
    "\n",
    "plt.show()"
   ]
  },
  {
   "cell_type": "markdown",
   "metadata": {},
   "source": [
    "## 2.1.2 Parallel Batch processing"
   ]
  },
  {
   "cell_type": "code",
   "execution_count": null,
   "metadata": {},
   "outputs": [],
   "source": []
  },
  {
   "cell_type": "code",
   "execution_count": null,
   "metadata": {},
   "outputs": [],
   "source": []
  },
  {
   "cell_type": "code",
   "execution_count": null,
   "metadata": {},
   "outputs": [],
   "source": []
  }
 ],
 "metadata": {
  "kernelspec": {
   "display_name": "Python 3",
   "language": "python",
   "name": "python3"
  },
  "language_info": {
   "codemirror_mode": {
    "name": "ipython",
    "version": 3
   },
   "file_extension": ".py",
   "mimetype": "text/x-python",
   "name": "python",
   "nbconvert_exporter": "python",
   "pygments_lexer": "ipython3",
   "version": "3.7.4"
  }
 },
 "nbformat": 4,
 "nbformat_minor": 2
}
