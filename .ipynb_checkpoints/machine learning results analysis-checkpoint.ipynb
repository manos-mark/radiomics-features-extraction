{
 "cells": [
  {
   "cell_type": "code",
   "execution_count": 5,
   "metadata": {},
   "outputs": [],
   "source": [
    "import pandas as pd\n",
    "import numpy as np\n",
    "import os"
   ]
  },
  {
   "cell_type": "code",
   "execution_count": 79,
   "metadata": {},
   "outputs": [
    {
     "data": {
      "text/plain": [
       "'/home/manos/git/radiomics-features-extraction'"
      ]
     },
     "execution_count": 79,
     "metadata": {},
     "output_type": "execute_result"
    }
   ],
   "source": [
    "root = !pwd\n",
    "root = root[0]\n",
    "root"
   ]
  },
  {
   "cell_type": "code",
   "execution_count": 92,
   "metadata": {},
   "outputs": [],
   "source": [
    "def find_best_ten(path):\n",
    "    # Get the file as datafram\n",
    "    df = pd.read_pickle(os.path.join(path))\n",
    "    # Get the last row and sort its columns\n",
    "    df = df[-1:].min().sort_values(ascending=True)\n",
    "    # Get 10 values that are below 0.5\n",
    "    return df[df < 0.05][:10]"
   ]
  },
  {
   "cell_type": "markdown",
   "metadata": {},
   "source": [
    "# Results\n",
    "For each software find the best 10 p-values"
   ]
  },
  {
   "cell_type": "markdown",
   "metadata": {},
   "source": [
    "## EGFR"
   ]
  },
  {
   "cell_type": "code",
   "execution_count": 93,
   "metadata": {},
   "outputs": [
    {
     "data": {
      "text/plain": [
       "Series([], dtype: float64)"
      ]
     },
     "execution_count": 93,
     "metadata": {},
     "output_type": "execute_result"
    }
   ],
   "source": [
    "lifex_egfr_best = find_best_ten(os.path.join(path, 'LifeX','data', 'machine-learning-results', 'full_ANOVA-EGFR: best0 0.05.pkl'))\n",
    "lifex_egfr_best"
   ]
  },
  {
   "cell_type": "code",
   "execution_count": 94,
   "metadata": {},
   "outputs": [
    {
     "data": {
      "text/plain": [
       "original_glrlm_ShortRunHighGrayLevelEmphasis    0.040452\n",
       "dtype: float64"
      ]
     },
     "execution_count": 94,
     "metadata": {},
     "output_type": "execute_result"
    }
   ],
   "source": [
    "pyradiomics_egfr_best = find_best_ten(os.path.join(path, 'pyradiomics','data', 'machine-learning-results', 'full_ANOVA-EGFR: best1 0.05.pkl'))\n",
    "pyradiomics_egfr_best"
   ]
  },
  {
   "cell_type": "code",
   "execution_count": 102,
   "metadata": {},
   "outputs": [
    {
     "data": {
      "text/plain": [
       "Mean        0.002295\n",
       "RLNonUni    0.014528\n",
       "dtype: float64"
      ]
     },
     "execution_count": 102,
     "metadata": {},
     "output_type": "execute_result"
    }
   ],
   "source": [
    "mazda_egfr_best = find_best_ten(os.path.join(path, 'MaZda','data', 'machine-learning-results', 'full_ANOVA-EGFR: best2 0.05.pkl'))\n",
    "mazda_egfr_best"
   ]
  },
  {
   "cell_type": "markdown",
   "metadata": {},
   "source": [
    "## KRAS"
   ]
  },
  {
   "cell_type": "code",
   "execution_count": 95,
   "metadata": {},
   "outputs": [
    {
     "data": {
      "text/plain": [
       "NGLDM_Contrast    0.039845\n",
       "dtype: float64"
      ]
     },
     "execution_count": 95,
     "metadata": {},
     "output_type": "execute_result"
    }
   ],
   "source": [
    "lifex_kras_best = find_best_ten(os.path.join(root, 'LifeX','data', 'machine-learning-results', 'full_ANOVA-KRAS: best1 0.05.pkl'))\n",
    "lifex_kras_best"
   ]
  },
  {
   "cell_type": "code",
   "execution_count": 96,
   "metadata": {},
   "outputs": [
    {
     "data": {
      "text/plain": [
       "original_glcm_Idmn    0.039038\n",
       "dtype: float64"
      ]
     },
     "execution_count": 96,
     "metadata": {},
     "output_type": "execute_result"
    }
   ],
   "source": [
    "pyradiomics_kras_best = find_best_ten(os.path.join(path, 'pyradiomics','data', 'machine-learning-results', 'full_ANOVA-KRAS: best1 0.05.pkl'))\n",
    "pyradiomics_kras_best"
   ]
  },
  {
   "cell_type": "code",
   "execution_count": 103,
   "metadata": {},
   "outputs": [
    {
     "data": {
      "text/plain": [
       "Series([], dtype: float64)"
      ]
     },
     "execution_count": 103,
     "metadata": {},
     "output_type": "execute_result"
    }
   ],
   "source": [
    "mazda_kras_best = find_best_ten(os.path.join(path, 'MaZda','data', 'machine-learning-results', 'full_ANOVA-KRAS: best0 0.05.pkl'))\n",
    "mazda_kras_best"
   ]
  },
  {
   "cell_type": "markdown",
   "metadata": {},
   "source": [
    "## SUBTYPES"
   ]
  },
  {
   "cell_type": "code",
   "execution_count": 97,
   "metadata": {},
   "outputs": [
    {
     "data": {
      "text/plain": [
       "CONVENTIONAL_mean                    0.008942\n",
       "CONVENTIONAL_Skewness                0.011302\n",
       "GLRLM_LGRE                           0.023665\n",
       "GLRLM_SRLGE                          0.024330\n",
       "GLCM_Energy[=AngularSecondMoment]    0.035837\n",
       "SHAPE_Surface(mm2)[onlyFor3DROI]     0.036516\n",
       "GLCM_Entropy_log2[=JointEntropy]     0.044110\n",
       "GLRLM_RP                             0.049681\n",
       "dtype: float64"
      ]
     },
     "execution_count": 97,
     "metadata": {},
     "output_type": "execute_result"
    }
   ],
   "source": [
    "lifex_subtypes_best = find_best_ten(os.path.join(root, 'LifeX','data', 'machine-learning-results', 'full_ANOVA-SUBTYPES: best8 0.05.pkl'))\n",
    "lifex_subtypes_best"
   ]
  },
  {
   "cell_type": "code",
   "execution_count": 98,
   "metadata": {},
   "outputs": [
    {
     "data": {
      "text/plain": [
       "original_glrlm_HighGrayLevelRunEmphasis         0.002166\n",
       "original_glrlm_ShortRunHighGrayLevelEmphasis    0.002369\n",
       "original_firstorder_Mean                        0.006398\n",
       "original_firstorder_Skewness                    0.008153\n",
       "original_glrlm_LongRunHighGrayLevelEmphasis     0.008920\n",
       "original_shape_SurfaceArea                      0.036401\n",
       "dtype: float64"
      ]
     },
     "execution_count": 98,
     "metadata": {},
     "output_type": "execute_result"
    }
   ],
   "source": [
    "pyradiomics_subtypes_best = find_best_ten(os.path.join(path, 'pyradiomics','data', 'machine-learning-results', 'full_ANOVA-SUBTYPES: best6 0.05.pkl'))\n",
    "pyradiomics_subtypes_best"
   ]
  },
  {
   "cell_type": "code",
   "execution_count": 104,
   "metadata": {},
   "outputs": [
    {
     "data": {
      "text/plain": [
       "Series([], dtype: float64)"
      ]
     },
     "execution_count": 104,
     "metadata": {},
     "output_type": "execute_result"
    }
   ],
   "source": [
    "mazda_subtypes_best = find_best_ten(os.path.join(path, 'MaZda','data', 'machine-learning-results', 'full_ANOVA-SUBTYPES: best0 0.05.pkl'))\n",
    "mazda_subtypes_best"
   ]
  },
  {
   "cell_type": "markdown",
   "metadata": {},
   "source": [
    "## SURVIVAL"
   ]
  },
  {
   "cell_type": "code",
   "execution_count": 99,
   "metadata": {},
   "outputs": [
    {
     "data": {
      "text/plain": [
       "SHAPE_Sphericity[onlyFor3DROI])    0.017014\n",
       "CONVENTIONAL_max                   0.032773\n",
       "GLCM_Correlation                   0.049936\n",
       "dtype: float64"
      ]
     },
     "execution_count": 99,
     "metadata": {},
     "output_type": "execute_result"
    }
   ],
   "source": [
    "lifex_survival_best = find_best_ten(os.path.join(root, 'LifeX','data', 'machine-learning-results', 'full_ANOVA-SURVIVAL: best3 0.05.pkl'))\n",
    "lifex_survival_best"
   ]
  },
  {
   "cell_type": "code",
   "execution_count": 100,
   "metadata": {},
   "outputs": [
    {
     "data": {
      "text/plain": [
       "original_glrlm_LongRunHighGrayLevelEmphasis    0.005439\n",
       "original_shape_Sphericity                      0.015789\n",
       "original_glrlm_LongRunEmphasis                 0.021106\n",
       "original_glrlm_RunPercentage                   0.028642\n",
       "original_ngtdm_Coarseness                      0.031171\n",
       "original_firstorder_Maximum                    0.032421\n",
       "original_glrlm_ShortRunEmphasis                0.045617\n",
       "dtype: float64"
      ]
     },
     "execution_count": 100,
     "metadata": {},
     "output_type": "execute_result"
    }
   ],
   "source": [
    "pyradiomics_survival_best = find_best_ten(os.path.join(path, 'pyradiomics','data', 'machine-learning-results', 'full_ANOVA-SURVIVAL: best7 0.05.pkl'))\n",
    "pyradiomics_survival_best"
   ]
  },
  {
   "cell_type": "code",
   "execution_count": 105,
   "metadata": {},
   "outputs": [
    {
     "data": {
      "text/plain": [
       "Series([], dtype: float64)"
      ]
     },
     "execution_count": 105,
     "metadata": {},
     "output_type": "execute_result"
    }
   ],
   "source": [
    "mazda_survival_best = find_best_ten(os.path.join(path, 'MaZda','data', 'machine-learning-results', 'full_ANOVA-SURVIVAL: best0 0.05.pkl'))\n",
    "mazda_survival_best"
   ]
  }
 ],
 "metadata": {
  "kernelspec": {
   "display_name": "Python 3",
   "language": "python",
   "name": "python3"
  },
  "language_info": {
   "codemirror_mode": {
    "name": "ipython",
    "version": 3
   },
   "file_extension": ".py",
   "mimetype": "text/x-python",
   "name": "python",
   "nbconvert_exporter": "python",
   "pygments_lexer": "ipython3",
   "version": "3.7.7"
  }
 },
 "nbformat": 4,
 "nbformat_minor": 4
}
