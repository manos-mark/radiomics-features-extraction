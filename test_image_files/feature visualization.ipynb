{
 "cells": [
  {
   "cell_type": "markdown",
   "metadata": {},
   "source": [
    "# Import data"
   ]
  },
  {
   "cell_type": "code",
   "execution_count": 383,
   "metadata": {},
   "outputs": [],
   "source": [
    "%matplotlib inline\n",
    "import matplotlib.pyplot as plt\n",
    "\n",
    "import pandas as pd\n",
    "import numpy as np\n",
    "import os\n",
    "import seaborn as sns"
   ]
  },
  {
   "cell_type": "code",
   "execution_count": 384,
   "metadata": {},
   "outputs": [],
   "source": [
    "path = !pwd\n",
    "path = path[0]"
   ]
  },
  {
   "cell_type": "markdown",
   "metadata": {},
   "source": [
    "## Selected features"
   ]
  },
  {
   "cell_type": "code",
   "execution_count": 438,
   "metadata": {},
   "outputs": [
    {
     "data": {
      "text/plain": [
       "array(['Volume (mesh)', 'volume (voxel counting)', 'Sphericity',\n",
       "       'Surface area (mesh)', 'Discretised intensity skewness',\n",
       "       'Minimum Intensity', 'Mean Intensity', 'Std', 'Maximum Intensity',\n",
       "       'Kurtosis', 'CLCM correlation', 'GLCM contrast',\n",
       "       'GLCM angular second moment', 'GLCM joint entropy',\n",
       "       'GLCM difference average', 'GLCM inverse difference',\n",
       "       'NGTDM coarseness', 'NGTDM contrast', 'NGTDM busyness',\n",
       "       'GLRLM Short Run Emphasis', 'GLRLM Long Run Emphasis',\n",
       "       'GLRLM Low Gray Level Run Emphasis',\n",
       "       'GLRLM High Gray Level Run Emphasis',\n",
       "       'GLRLM Short Run Low Gray Level Emphasis',\n",
       "       'GLRLM Short Run High Gray Level Emphasis',\n",
       "       'GLRLM Long Run Low Gray Level Emphasis',\n",
       "       'GLRLM Long Run High Gray Level Emphasis',\n",
       "       'GLRLM Gray Level Non Uniformity',\n",
       "       'GLRLM Run Length Non Uniformity', 'GLRLM Run Percentage'],\n",
       "      dtype=object)"
      ]
     },
     "execution_count": 438,
     "metadata": {},
     "output_type": "execute_result"
    }
   ],
   "source": [
    "selected_features = pd.read_excel(os.path.join(path,'info','info.xlsx'), usecols='B', skiprows=[36,37,38,39])\n",
    "selected_features = selected_features.dropna().values.flatten()\n",
    "selected_features"
   ]
  },
  {
   "cell_type": "markdown",
   "metadata": {},
   "source": [
    "## LifeX dataset"
   ]
  },
  {
   "cell_type": "code",
   "execution_count": 385,
   "metadata": {},
   "outputs": [
    {
     "data": {
      "text/html": [
       "<div>\n",
       "<style scoped>\n",
       "    .dataframe tbody tr th:only-of-type {\n",
       "        vertical-align: middle;\n",
       "    }\n",
       "\n",
       "    .dataframe tbody tr th {\n",
       "        vertical-align: top;\n",
       "    }\n",
       "\n",
       "    .dataframe thead th {\n",
       "        text-align: right;\n",
       "    }\n",
       "</style>\n",
       "<table border=\"1\" class=\"dataframe\">\n",
       "  <thead>\n",
       "    <tr style=\"text-align: right;\">\n",
       "      <th></th>\n",
       "      <th>SHAPE_Volume(mL)</th>\n",
       "      <th>SHAPE_Volume(vx)</th>\n",
       "      <th>SHAPE_Sphericity[onlyFor3DROI])</th>\n",
       "      <th>SHAPE_Surface(mm2)[onlyFor3DROI]</th>\n",
       "      <th>CONVENTIONAL_Skewness</th>\n",
       "      <th>CONVENTIONAL_min</th>\n",
       "      <th>CONVENTIONAL_mean</th>\n",
       "      <th>CONVENTIONAL_std</th>\n",
       "      <th>CONVENTIONAL_max</th>\n",
       "      <th>CONVENTIONAL_Kurtosis</th>\n",
       "      <th>...</th>\n",
       "      <th>GLRLM_LRE</th>\n",
       "      <th>GLRLM_LGRE</th>\n",
       "      <th>GLRLM_HGRE</th>\n",
       "      <th>GLRLM_SRLGE</th>\n",
       "      <th>GLRLM_SRHGE</th>\n",
       "      <th>GLRLM_LRLGE</th>\n",
       "      <th>GLRLM_LRHGE</th>\n",
       "      <th>GLRLM_GLNU</th>\n",
       "      <th>GLRLM_RLNU</th>\n",
       "      <th>GLRLM_RP</th>\n",
       "    </tr>\n",
       "  </thead>\n",
       "  <tbody>\n",
       "    <tr>\n",
       "      <th>0</th>\n",
       "      <td>211.439</td>\n",
       "      <td>211439</td>\n",
       "      <td>0</td>\n",
       "      <td>0</td>\n",
       "      <td>-0.79593</td>\n",
       "      <td>0</td>\n",
       "      <td>170.537174</td>\n",
       "      <td>65.556657</td>\n",
       "      <td>255</td>\n",
       "      <td>2.773942</td>\n",
       "      <td>...</td>\n",
       "      <td>679.469489</td>\n",
       "      <td>0.052152</td>\n",
       "      <td>89.625557</td>\n",
       "      <td>0.019866</td>\n",
       "      <td>45.979686</td>\n",
       "      <td>56.485177</td>\n",
       "      <td>48961.596059</td>\n",
       "      <td>3043.701238</td>\n",
       "      <td>2612.574843</td>\n",
       "      <td>0.067891</td>\n",
       "    </tr>\n",
       "  </tbody>\n",
       "</table>\n",
       "<p>1 rows × 30 columns</p>\n",
       "</div>"
      ],
      "text/plain": [
       "   SHAPE_Volume(mL)  SHAPE_Volume(vx)  SHAPE_Sphericity[onlyFor3DROI])  \\\n",
       "0           211.439            211439                                0   \n",
       "\n",
       "   SHAPE_Surface(mm2)[onlyFor3DROI]  CONVENTIONAL_Skewness  CONVENTIONAL_min   \\\n",
       "0                                 0               -0.79593                  0   \n",
       "\n",
       "   CONVENTIONAL_mean  CONVENTIONAL_std  CONVENTIONAL_max  \\\n",
       "0         170.537174         65.556657               255   \n",
       "\n",
       "   CONVENTIONAL_Kurtosis  ...   GLRLM_LRE  GLRLM_LGRE  GLRLM_HGRE  \\\n",
       "0               2.773942  ...  679.469489    0.052152   89.625557   \n",
       "\n",
       "   GLRLM_SRLGE  GLRLM_SRHGE  GLRLM_LRLGE   GLRLM_LRHGE   GLRLM_GLNU  \\\n",
       "0     0.019866    45.979686    56.485177  48961.596059  3043.701238   \n",
       "\n",
       "    GLRLM_RLNU  GLRLM_RP  \n",
       "0  2612.574843  0.067891  \n",
       "\n",
       "[1 rows x 30 columns]"
      ]
     },
     "execution_count": 385,
     "metadata": {},
     "output_type": "execute_result"
    }
   ],
   "source": [
    "lifex_selected_features = pd.read_excel(os.path.join(path,'info','info.xlsx'), usecols='C')\n",
    "lifex_selected_features = lifex_selected_features.dropna().values.flatten()\n",
    "\n",
    "lifex_dataset = pd.read_csv(os.path.join(path, 'test_image_files', 'test_image_lifex_extracted_features.csv'), skiprows=2)\n",
    "lifex_dataset = lifex_dataset[lifex_selected_features]\n",
    "lifex_dataset"
   ]
  },
  {
   "cell_type": "markdown",
   "metadata": {},
   "source": [
    "## Pyradiomics dataset"
   ]
  },
  {
   "cell_type": "code",
   "execution_count": 470,
   "metadata": {},
   "outputs": [
    {
     "data": {
      "text/html": [
       "<div>\n",
       "<style scoped>\n",
       "    .dataframe tbody tr th:only-of-type {\n",
       "        vertical-align: middle;\n",
       "    }\n",
       "\n",
       "    .dataframe tbody tr th {\n",
       "        vertical-align: top;\n",
       "    }\n",
       "\n",
       "    .dataframe thead th {\n",
       "        text-align: right;\n",
       "    }\n",
       "</style>\n",
       "<table border=\"1\" class=\"dataframe\">\n",
       "  <thead>\n",
       "    <tr style=\"text-align: right;\">\n",
       "      <th></th>\n",
       "      <th>original_shape_MeshVolume</th>\n",
       "      <th>original_shape_VoxelVolume</th>\n",
       "      <th>original_shape_Sphericity</th>\n",
       "      <th>original_shape_SurfaceArea</th>\n",
       "      <th>original_firstorder_Skewness</th>\n",
       "      <th>original_firstorder_Minimum</th>\n",
       "      <th>original_firstorder_Mean</th>\n",
       "      <th>original_firstorder_MeanAbsoluteDeviation</th>\n",
       "      <th>original_firstorder_Maximum</th>\n",
       "      <th>original_firstorder_Kurtosis</th>\n",
       "      <th>...</th>\n",
       "      <th>original_glrlm_LongRunEmphasis</th>\n",
       "      <th>original_glrlm_LowGrayLevelRunEmphasis</th>\n",
       "      <th>original_glrlm_HighGrayLevelRunEmphasis</th>\n",
       "      <th>original_glrlm_ShortRunLowGrayLevelEmphasis</th>\n",
       "      <th>original_glrlm_ShortRunHighGrayLevelEmphasis</th>\n",
       "      <th>original_glrlm_LongRunLowGrayLevelEmphasis</th>\n",
       "      <th>original_glrlm_LongRunHighGrayLevelEmphasis</th>\n",
       "      <th>original_gldm_GrayLevelNonUniformity</th>\n",
       "      <th>original_glrlm_RunLengthNonUniformity</th>\n",
       "      <th>original_glrlm_RunPercentage</th>\n",
       "    </tr>\n",
       "  </thead>\n",
       "  <tbody>\n",
       "    <tr>\n",
       "      <th>0</th>\n",
       "      <td>211071.416667</td>\n",
       "      <td>211439</td>\n",
       "      <td>0.040465</td>\n",
       "      <td>423668.775437</td>\n",
       "      <td>-0.79593</td>\n",
       "      <td>0</td>\n",
       "      <td>170.537174</td>\n",
       "      <td>53.273572</td>\n",
       "      <td>255</td>\n",
       "      <td>2.773942</td>\n",
       "      <td>...</td>\n",
       "      <td>1215.447699</td>\n",
       "      <td>0.081005</td>\n",
       "      <td>61.787081</td>\n",
       "      <td>0.028117</td>\n",
       "      <td>6.740983</td>\n",
       "      <td>99.823252</td>\n",
       "      <td>73697.991337</td>\n",
       "      <td>25794.738497</td>\n",
       "      <td>398.813814</td>\n",
       "      <td>0.042309</td>\n",
       "    </tr>\n",
       "  </tbody>\n",
       "</table>\n",
       "<p>1 rows × 30 columns</p>\n",
       "</div>"
      ],
      "text/plain": [
       "   original_shape_MeshVolume  original_shape_VoxelVolume  \\\n",
       "0              211071.416667                      211439   \n",
       "\n",
       "   original_shape_Sphericity  original_shape_SurfaceArea  \\\n",
       "0                   0.040465               423668.775437   \n",
       "\n",
       "   original_firstorder_Skewness  original_firstorder_Minimum  \\\n",
       "0                      -0.79593                            0   \n",
       "\n",
       "   original_firstorder_Mean  original_firstorder_MeanAbsoluteDeviation  \\\n",
       "0                170.537174                                  53.273572   \n",
       "\n",
       "   original_firstorder_Maximum  original_firstorder_Kurtosis  ...  \\\n",
       "0                          255                      2.773942  ...   \n",
       "\n",
       "   original_glrlm_LongRunEmphasis  original_glrlm_LowGrayLevelRunEmphasis  \\\n",
       "0                     1215.447699                                0.081005   \n",
       "\n",
       "   original_glrlm_HighGrayLevelRunEmphasis  \\\n",
       "0                                61.787081   \n",
       "\n",
       "   original_glrlm_ShortRunLowGrayLevelEmphasis  \\\n",
       "0                                     0.028117   \n",
       "\n",
       "   original_glrlm_ShortRunHighGrayLevelEmphasis  \\\n",
       "0                                      6.740983   \n",
       "\n",
       "   original_glrlm_LongRunLowGrayLevelEmphasis  \\\n",
       "0                                   99.823252   \n",
       "\n",
       "   original_glrlm_LongRunHighGrayLevelEmphasis  \\\n",
       "0                                 73697.991337   \n",
       "\n",
       "   original_gldm_GrayLevelNonUniformity  \\\n",
       "0                          25794.738497   \n",
       "\n",
       "   original_glrlm_RunLengthNonUniformity  original_glrlm_RunPercentage  \n",
       "0                             398.813814                      0.042309  \n",
       "\n",
       "[1 rows x 30 columns]"
      ]
     },
     "execution_count": 470,
     "metadata": {},
     "output_type": "execute_result"
    }
   ],
   "source": [
    "pyradiomics_selected_features = pd.read_excel(os.path.join(path,'info','info.xlsx'), usecols='D')\n",
    "pyradiomics_selected_features = pyradiomics_selected_features.dropna().values.flatten()\n",
    "\n",
    "pyradiomics_dataset = pd.read_csv(os.path.join(path, 'test_image_files', 'test_image_pyradiomics_extracted_features.csv'), skiprows=2)\n",
    "pyradiomics_dataset = pyradiomics_dataset[pyradiomics_selected_features]\n",
    "pyradiomics_dataset"
   ]
  },
  {
   "cell_type": "markdown",
   "metadata": {},
   "source": [
    "## MaZda dataset"
   ]
  },
  {
   "cell_type": "code",
   "execution_count": 524,
   "metadata": {},
   "outputs": [
    {
     "data": {
      "text/plain": [
       "array([0, 0, 0, 0, 'Skewness', 0, 'Mean', 0, 0, 'Kurtosis', 'Correlat',\n",
       "       'Contrast', 'AngScMom', 'Entropy', 0, 'InvDfMom', 0, 0, 0,\n",
       "       'ShrtREmp', 'LngREmph', 0, 0, 0, 0, 0, 0, 'GLevNonU', 'RLNonUni',\n",
       "       0], dtype=object)"
      ]
     },
     "execution_count": 524,
     "metadata": {},
     "output_type": "execute_result"
    }
   ],
   "source": [
    "mazda_selected_features = pd.read_excel(os.path.join(path,'info','info.xlsx'), usecols='E')\n",
    "mazda_selected_features = mazda_selected_features.dropna().values.flatten()\n",
    "mazda_selected_features"
   ]
  },
  {
   "cell_type": "code",
   "execution_count": 525,
   "metadata": {},
   "outputs": [],
   "source": [
    "mazda_first_order_selected_features =  ['Skewness', 'Mean', 'Kurtosis']\n",
    "\n",
    "mazda_glcm_selected_features = np.array([\n",
    " ['S(1,0)AngScMom','S(1,0)Contrast','S(1,0)Correlat','S(1,0)InvDfMom','S(1,0)Entropy'],\n",
    " ['S(0,1)AngScMom','S(0,1)Contrast','S(0,1)Correlat','S(0,1)InvDfMom','S(0,1)Entropy'],\n",
    " ['S(1,1)AngScMom','S(1,1)Contrast','S(1,1)Correlat','S(1,1)InvDfMom','S(1,1)Entropy'],\n",
    " ['S(1,-1)AngScMom','S(1,-1)Contrast','S(1,-1)Correlat','S(1,-1)InvDfMom','S(1,-1)Entropy'],\n",
    " ['S(2,0)AngScMom','S(2,0)Contrast','S(2,0)Correlat','S(2,0)InvDfMom','S(2,0)Entropy'],\n",
    " ['S(0,2)AngScMom','S(0,2)Contrast','S(0,2)Correlat','S(0,2)InvDfMom','S(0,2)Entropy'],\n",
    " ['S(2,2)AngScMom','S(2,2)Contrast','S(2,2)Correlat','S(2,2)InvDfMom','S(2,2)Entropy'],\n",
    " ['S(2,-2)AngScMom','S(2,-2)Contrast','S(2,-2)Correlat','S(2,-2)InvDfMom','S(2,-2)Entropy'],\n",
    " ['S(3,0)AngScMom','S(3,0)Contrast','S(3,0)Correlat','S(3,0)InvDfMom','S(3,0)Entropy'],\n",
    " ['S(0,3)AngScMom','S(0,3)Contrast','S(0,3)Correlat','S(0,3)InvDfMom','S(0,3)Entropy'],\n",
    " ['S(3,3)AngScMom','S(3,3)Contrast','S(3,3)Correlat','S(3,3)InvDfMom','S(3,3)Entropy'],\n",
    " ['S(3,-3)AngScMom','S(3,-3)Contrast','S(3,-3)Correlat','S(3,-3)InvDfMom','S(3,-3)Entropy'],\n",
    " ['S(4,0)AngScMom','S(4,0)Contrast','S(4,0)Correlat','S(4,0)InvDfMom','S(4,0)Entropy'],\n",
    " ['S(0,4)AngScMom','S(0,4)Contrast','S(0,4)Correlat','S(0,4)InvDfMom','S(0,4)Entropy'],\n",
    " ['S(4,4)AngScMom','S(4,4)Contrast','S(4,4)Correlat','S(4,4)InvDfMom','S(4,4)Entropy'],\n",
    " ['S(4,-4)AngScMom','S(4,-4)Contrast','S(4,-4)Correlat','S(4,-4)InvDfMom','S(4,-4)Entropy'],\n",
    " ['S(5,0)AngScMom','S(5,0)Contrast','S(5,0)Correlat','S(5,0)InvDfMom','S(5,0)Entropy'],\n",
    " ['S(0,5)AngScMom','S(0,5)Contrast','S(0,5)Correlat','S(0,5)InvDfMom','S(0,5)Entropy'],\n",
    " ['S(5,5)AngScMom','S(5,5)Contrast','S(5,5)Correlat','S(5,5)InvDfMom','S(5,5)Entropy'],\n",
    " ['S(5,-5)AngScMom','S(5,-5)Contrast','S(5,-5)Correlat','S(5,-5)InvDfMom','S(5,-5)Entropy'],\n",
    "]).T\n",
    "\n",
    "mazda_glrlm_selected_features = [\n",
    " 'Horzl_RLNonUni', 'Horzl_GLevNonU', 'Horzl_LngREmph', 'Horzl_ShrtREmp',\n",
    " 'Vertl_RLNonUni', 'Vertl_GLevNonU', 'Vertl_LngREmph', 'Vertl_ShrtREmp',\n",
    "]\n"
   ]
  },
  {
   "cell_type": "code",
   "execution_count": 526,
   "metadata": {},
   "outputs": [
    {
     "data": {
      "text/html": [
       "<div>\n",
       "<style scoped>\n",
       "    .dataframe tbody tr th:only-of-type {\n",
       "        vertical-align: middle;\n",
       "    }\n",
       "\n",
       "    .dataframe tbody tr th {\n",
       "        vertical-align: top;\n",
       "    }\n",
       "\n",
       "    .dataframe thead th {\n",
       "        text-align: right;\n",
       "    }\n",
       "</style>\n",
       "<table border=\"1\" class=\"dataframe\">\n",
       "  <thead>\n",
       "    <tr style=\"text-align: right;\">\n",
       "      <th></th>\n",
       "      <th>Skewness</th>\n",
       "      <th>Mean</th>\n",
       "      <th>Kurtosis</th>\n",
       "    </tr>\n",
       "  </thead>\n",
       "  <tbody>\n",
       "    <tr>\n",
       "      <th>0</th>\n",
       "      <td>-0.79372</td>\n",
       "      <td>21953.7</td>\n",
       "      <td>-0.229298</td>\n",
       "    </tr>\n",
       "  </tbody>\n",
       "</table>\n",
       "</div>"
      ],
      "text/plain": [
       "0 Skewness     Mean  Kurtosis\n",
       "0 -0.79372  21953.7 -0.229298"
      ]
     },
     "execution_count": 526,
     "metadata": {},
     "output_type": "execute_result"
    }
   ],
   "source": [
    "mazda_dataset = pd.read_csv(os.path.join(path, 'test_image_files', 'test_image_mazda_extracted_features.csv'), skiprows=19)\n",
    "mazda_dataset.drop(axis=1, labels=mazda_dataset.columns[2:], inplace=True)\n",
    "mazda_dataset = mazda_dataset.T\n",
    "mazda_dataset.reset_index(inplace=True)\n",
    "\n",
    "new_header = mazda_dataset.iloc[0] #grab the first row for the header\n",
    "mazda_dataset = mazda_dataset[1:] #take the data less the header row\n",
    "mazda_dataset.columns = new_header #set the header row as the df header\n",
    "\n",
    "mazda_dataset.index = np.arange(0, len(mazda_dataset))\n",
    "\n",
    "mazda_first_order_dataset = mazda_dataset[mazda_first_order_selected_features]\n",
    "mazda_first_order_dataset"
   ]
  },
  {
   "cell_type": "markdown",
   "metadata": {},
   "source": [
    "### Refactor glrlm values "
   ]
  },
  {
   "cell_type": "code",
   "execution_count": 527,
   "metadata": {},
   "outputs": [
    {
     "data": {
      "text/html": [
       "<div>\n",
       "<style scoped>\n",
       "    .dataframe tbody tr th:only-of-type {\n",
       "        vertical-align: middle;\n",
       "    }\n",
       "\n",
       "    .dataframe tbody tr th {\n",
       "        vertical-align: top;\n",
       "    }\n",
       "\n",
       "    .dataframe thead th {\n",
       "        text-align: right;\n",
       "    }\n",
       "</style>\n",
       "<table border=\"1\" class=\"dataframe\">\n",
       "  <thead>\n",
       "    <tr style=\"text-align: right;\">\n",
       "      <th></th>\n",
       "      <th>RLNonUni</th>\n",
       "      <th>GLevNonU</th>\n",
       "      <th>LngREmph</th>\n",
       "      <th>ShrtREmp</th>\n",
       "    </tr>\n",
       "  </thead>\n",
       "  <tbody>\n",
       "    <tr>\n",
       "      <th>0</th>\n",
       "      <td>4611.16485</td>\n",
       "      <td>697.366745</td>\n",
       "      <td>94.83782</td>\n",
       "      <td>0.119138</td>\n",
       "    </tr>\n",
       "  </tbody>\n",
       "</table>\n",
       "</div>"
      ],
      "text/plain": [
       "     RLNonUni    GLevNonU  LngREmph  ShrtREmp\n",
       "0  4611.16485  697.366745  94.83782  0.119138"
      ]
     },
     "execution_count": 527,
     "metadata": {},
     "output_type": "execute_result"
    }
   ],
   "source": [
    "values = []\n",
    "columns = []\n",
    "\n",
    "for i in range(4):\n",
    "    horizl_value = float(mazda_dataset[mazda_glrlm_selected_features[i]])\n",
    "    vertl_value = float(mazda_dataset[mazda_glrlm_selected_features[i+4]])\n",
    "    \n",
    "    new_col_name = mazda_glrlm_selected_features[i].split('_')[1]\n",
    "    aggregated_value = (horizl_value + vertl_value) / 2\n",
    "    \n",
    "    columns.append(new_col_name)\n",
    "    values.append(aggregated_value)\n",
    "    \n",
    "mazda_glrlm_dataset = pd.DataFrame(values, columns)\n",
    "mazda_glrlm_dataset = mazda_glrlm_dataset.T\n",
    "mazda_glrlm_dataset"
   ]
  },
  {
   "cell_type": "markdown",
   "metadata": {},
   "source": [
    "### Refactor glcm values"
   ]
  },
  {
   "cell_type": "code",
   "execution_count": 528,
   "metadata": {},
   "outputs": [
    {
     "data": {
      "text/html": [
       "<div>\n",
       "<style scoped>\n",
       "    .dataframe tbody tr th:only-of-type {\n",
       "        vertical-align: middle;\n",
       "    }\n",
       "\n",
       "    .dataframe tbody tr th {\n",
       "        vertical-align: top;\n",
       "    }\n",
       "\n",
       "    .dataframe thead th {\n",
       "        text-align: right;\n",
       "    }\n",
       "</style>\n",
       "<table border=\"1\" class=\"dataframe\">\n",
       "  <thead>\n",
       "    <tr style=\"text-align: right;\">\n",
       "      <th></th>\n",
       "      <th>Correlat</th>\n",
       "      <th>Contrast</th>\n",
       "      <th>AngScMom</th>\n",
       "      <th>Entropy</th>\n",
       "      <th>InvDfMom</th>\n",
       "    </tr>\n",
       "  </thead>\n",
       "  <tbody>\n",
       "    <tr>\n",
       "      <th>0</th>\n",
       "      <td>1.647078</td>\n",
       "      <td>1.343447</td>\n",
       "      <td>1.262431</td>\n",
       "      <td>1.579483</td>\n",
       "      <td>1.394315</td>\n",
       "    </tr>\n",
       "  </tbody>\n",
       "</table>\n",
       "</div>"
      ],
      "text/plain": [
       "   Correlat  Contrast  AngScMom   Entropy  InvDfMom\n",
       "0  1.647078  1.343447  1.262431  1.579483  1.394315"
      ]
     },
     "execution_count": 528,
     "metadata": {},
     "output_type": "execute_result"
    }
   ],
   "source": [
    "columns = ['Correlat','Contrast','AngScMom','Entropy','InvDfMom']\n",
    "values = []\n",
    "correlat_values = []\n",
    "contrast_values = []\n",
    "angScMom_values = []\n",
    "entropy_values = []\n",
    "invDfMom_values = []\n",
    "\n",
    "for i in range(mazda_glcm_selected_features.shape[0]):\n",
    "    correlat_values.append(mazda_dataset[mazda_glcm_selected_features[i][2]].values[0])\n",
    "values.append(np.mean(correlat_values))\n",
    "  \n",
    "for i in range(mazda_glcm_selected_features.shape[0]):\n",
    "    contrast_values.append(mazda_dataset[mazda_glcm_selected_features[i][1]].values[0])\n",
    "values.append(np.mean(contrast_values))\n",
    "     \n",
    "for i in range(mazda_glcm_selected_features.shape[0]):\n",
    "    angScMom_values.append(mazda_dataset[mazda_glcm_selected_features[i][0]].values[0])\n",
    "values.append(np.mean(angScMom_values))\n",
    "    \n",
    "for i in range(mazda_glcm_selected_features.shape[0]):\n",
    "    entropy_values.append(mazda_dataset[mazda_glcm_selected_features[i][4]].values[0])\n",
    "values.append(np.mean(entropy_values))\n",
    "    \n",
    "for i in range(mazda_glcm_selected_features.shape[0]):\n",
    "    invDfMom_values.append(mazda_dataset[mazda_glcm_selected_features[i][3]].values[0])\n",
    "values.append(np.mean(invDfMom_values))\n",
    "\n",
    "mazda_glcm_dataset = pd.DataFrame(values, columns)\n",
    "mazda_glcm_dataset = mazda_glcm_dataset.T\n",
    "mazda_glcm_dataset"
   ]
  },
  {
   "cell_type": "code",
   "execution_count": 529,
   "metadata": {},
   "outputs": [
    {
     "data": {
      "text/html": [
       "<div>\n",
       "<style scoped>\n",
       "    .dataframe tbody tr th:only-of-type {\n",
       "        vertical-align: middle;\n",
       "    }\n",
       "\n",
       "    .dataframe tbody tr th {\n",
       "        vertical-align: top;\n",
       "    }\n",
       "\n",
       "    .dataframe thead th {\n",
       "        text-align: right;\n",
       "    }\n",
       "</style>\n",
       "<table border=\"1\" class=\"dataframe\">\n",
       "  <thead>\n",
       "    <tr style=\"text-align: right;\">\n",
       "      <th></th>\n",
       "      <th>Skewness</th>\n",
       "      <th>Mean</th>\n",
       "      <th>Kurtosis</th>\n",
       "      <th>Correlat</th>\n",
       "      <th>Contrast</th>\n",
       "      <th>AngScMom</th>\n",
       "      <th>Entropy</th>\n",
       "      <th>InvDfMom</th>\n",
       "      <th>RLNonUni</th>\n",
       "      <th>GLevNonU</th>\n",
       "      <th>LngREmph</th>\n",
       "      <th>ShrtREmp</th>\n",
       "    </tr>\n",
       "  </thead>\n",
       "  <tbody>\n",
       "    <tr>\n",
       "      <th>0</th>\n",
       "      <td>-0.79372</td>\n",
       "      <td>21953.7</td>\n",
       "      <td>-0.229298</td>\n",
       "      <td>1.647078</td>\n",
       "      <td>1.343447</td>\n",
       "      <td>1.262431</td>\n",
       "      <td>1.579483</td>\n",
       "      <td>1.394315</td>\n",
       "      <td>4611.16485</td>\n",
       "      <td>697.366745</td>\n",
       "      <td>94.83782</td>\n",
       "      <td>0.119138</td>\n",
       "    </tr>\n",
       "  </tbody>\n",
       "</table>\n",
       "</div>"
      ],
      "text/plain": [
       "  Skewness     Mean  Kurtosis  Correlat  Contrast  AngScMom   Entropy  \\\n",
       "0 -0.79372  21953.7 -0.229298  1.647078  1.343447  1.262431  1.579483   \n",
       "\n",
       "   InvDfMom    RLNonUni    GLevNonU  LngREmph  ShrtREmp  \n",
       "0  1.394315  4611.16485  697.366745  94.83782  0.119138  "
      ]
     },
     "execution_count": 529,
     "metadata": {},
     "output_type": "execute_result"
    }
   ],
   "source": [
    "mazda_dataset = pd.concat([mazda_first_order_dataset, mazda_glcm_dataset, mazda_glrlm_dataset], axis=1)\n",
    "mazda_dataset"
   ]
  },
  {
   "cell_type": "code",
   "execution_count": 530,
   "metadata": {},
   "outputs": [
    {
     "data": {
      "text/html": [
       "<div>\n",
       "<style scoped>\n",
       "    .dataframe tbody tr th:only-of-type {\n",
       "        vertical-align: middle;\n",
       "    }\n",
       "\n",
       "    .dataframe tbody tr th {\n",
       "        vertical-align: top;\n",
       "    }\n",
       "\n",
       "    .dataframe thead th {\n",
       "        text-align: right;\n",
       "    }\n",
       "</style>\n",
       "<table border=\"1\" class=\"dataframe\">\n",
       "  <thead>\n",
       "    <tr style=\"text-align: right;\">\n",
       "      <th></th>\n",
       "      <th>Volume (mesh)</th>\n",
       "      <th>volume (voxel counting)</th>\n",
       "      <th>Sphericity</th>\n",
       "      <th>Surface area (mesh)</th>\n",
       "      <th>Skewness</th>\n",
       "      <th>Minimum Intensity</th>\n",
       "      <th>Mean</th>\n",
       "      <th>Std</th>\n",
       "      <th>Maximum Intensity</th>\n",
       "      <th>Kurtosis</th>\n",
       "      <th>...</th>\n",
       "      <th>GLevNonU</th>\n",
       "      <th>GLRLM Low Gray Level Run Emphasis</th>\n",
       "      <th>GLRLM High Gray Level Run Emphasis</th>\n",
       "      <th>GLRLM Short Run Low Gray Level Emphasis</th>\n",
       "      <th>GLRLM Short Run High Gray Level Emphasis</th>\n",
       "      <th>GLRLM Long Run Low Gray Level Emphasis</th>\n",
       "      <th>GLRLM Long Run High Gray Level Emphasis</th>\n",
       "      <th>LngREmph</th>\n",
       "      <th>ShrtREmp</th>\n",
       "      <th>GLRLM Run Percentage</th>\n",
       "    </tr>\n",
       "  </thead>\n",
       "  <tbody>\n",
       "    <tr>\n",
       "      <th>0</th>\n",
       "      <td>0</td>\n",
       "      <td>0</td>\n",
       "      <td>0</td>\n",
       "      <td>0</td>\n",
       "      <td>-0.79372</td>\n",
       "      <td>0</td>\n",
       "      <td>21953.7</td>\n",
       "      <td>0</td>\n",
       "      <td>0</td>\n",
       "      <td>-0.229298</td>\n",
       "      <td>...</td>\n",
       "      <td>697.366745</td>\n",
       "      <td>0</td>\n",
       "      <td>0</td>\n",
       "      <td>0</td>\n",
       "      <td>0</td>\n",
       "      <td>0</td>\n",
       "      <td>0</td>\n",
       "      <td>94.83782</td>\n",
       "      <td>0.119138</td>\n",
       "      <td>0</td>\n",
       "    </tr>\n",
       "  </tbody>\n",
       "</table>\n",
       "<p>1 rows × 30 columns</p>\n",
       "</div>"
      ],
      "text/plain": [
       "   Volume (mesh)  volume (voxel counting)  Sphericity  Surface area (mesh)  \\\n",
       "0              0                        0           0                    0   \n",
       "\n",
       "  Skewness  Minimum Intensity     Mean  Std  Maximum Intensity  Kurtosis  ...  \\\n",
       "0 -0.79372                  0  21953.7    0                  0 -0.229298  ...   \n",
       "\n",
       "     GLevNonU  GLRLM Low Gray Level Run Emphasis  \\\n",
       "0  697.366745                                  0   \n",
       "\n",
       "   GLRLM High Gray Level Run Emphasis  \\\n",
       "0                                   0   \n",
       "\n",
       "   GLRLM Short Run Low Gray Level Emphasis  \\\n",
       "0                                        0   \n",
       "\n",
       "   GLRLM Short Run High Gray Level Emphasis  \\\n",
       "0                                         0   \n",
       "\n",
       "   GLRLM Long Run Low Gray Level Emphasis  \\\n",
       "0                                       0   \n",
       "\n",
       "   GLRLM Long Run High Gray Level Emphasis  LngREmph  ShrtREmp  \\\n",
       "0                                        0  94.83782  0.119138   \n",
       "\n",
       "   GLRLM Run Percentage  \n",
       "0                     0  \n",
       "\n",
       "[1 rows x 30 columns]"
      ]
     },
     "execution_count": 530,
     "metadata": {},
     "output_type": "execute_result"
    }
   ],
   "source": [
    "mazda_dataset.insert(loc=0, column='Volume (mesh)', value=0)\n",
    "mazda_dataset.insert(loc=1, column='volume (voxel counting)', value=0)\n",
    "mazda_dataset.insert(loc=2, column='Sphericity', value=0)\n",
    "mazda_dataset.insert(loc=3, column='Surface area (mesh)', value=0)\n",
    "mazda_dataset.insert(loc=5, column='Minimum Intensity', value=0)\n",
    "mazda_dataset.insert(loc=7, column='Std', value=0)\n",
    "mazda_dataset.insert(loc=8, column='Maximum Intensity', value=0)\n",
    "mazda_dataset.insert(loc=14, column='GLCM difference average', value=0)\n",
    "mazda_dataset.insert(loc=16, column='NGTDM coarseness', value=0)\n",
    "mazda_dataset.insert(loc=17, column='NGTDM contrast', value=0)\n",
    "mazda_dataset.insert(loc=18, column='NGTDM busyness', value=0)\n",
    "mazda_dataset.insert(loc=21, column='GLRLM Low Gray Level Run Emphasis', value=0)\n",
    "mazda_dataset.insert(loc=22, column='GLRLM High Gray Level Run Emphasis', value=0)\n",
    "mazda_dataset.insert(loc=23, column='GLRLM Short Run Low Gray Level Emphasis', value=0)\n",
    "mazda_dataset.insert(loc=24, column='GLRLM Short Run High Gray Level Emphasis', value=0)\n",
    "mazda_dataset.insert(loc=25, column='GLRLM Long Run Low Gray Level Emphasis', value=0)\n",
    "mazda_dataset.insert(loc=26, column='GLRLM Long Run High Gray Level Emphasis', value=0)\n",
    "mazda_dataset.insert(loc=29, column='GLRLM Run Percentage', value=0)\n",
    "\n",
    "mazda_dataset"
   ]
  },
  {
   "cell_type": "markdown",
   "metadata": {},
   "source": [
    "# Distributions"
   ]
  },
  {
   "cell_type": "code",
   "execution_count": 244,
   "metadata": {},
   "outputs": [],
   "source": [
    "# d1 = mazda_dataset['Skewness']\n",
    "# d2 = pyradiomics_dataset['original_firstorder_Skewness']\n",
    "# data = [d1, d2]\n",
    "# fig7, ax7 = plt.subplots()\n",
    "# ax7.set_title('Skewness')\n",
    "# ax7.boxplot(data)\n",
    "\n",
    "# plt.show()"
   ]
  },
  {
   "cell_type": "code",
   "execution_count": 326,
   "metadata": {},
   "outputs": [
    {
     "data": {
      "image/png": "[encoded data removed]",
      "text/plain": [
       "<Figure size 432x288 with 1 Axes>"
      ]
     },
     "metadata": {
      "needs_background": "light"
     },
     "output_type": "display_data"
    }
   ],
   "source": [
    "fig, ax = plt.subplots()\n",
    "data = [mazda_dataset['Skewness'][0], pyradiomics_dataset['original_firstorder_Skewness'][0], lifex_dataset['CONVENTIONAL_Skewness'][0]]\n",
    "x = np.arange(3)\n",
    "\n",
    "plt.title('Skewness')\n",
    "plt.bar(x, data)\n",
    "plt.xticks(x, ('MaZda', 'Pyradiomics', 'LifeX'))\n",
    "plt.show()"
   ]
  },
  {
   "cell_type": "code",
   "execution_count": 426,
   "metadata": {},
   "outputs": [
    {
     "data": {
      "image/png": "[encoded data removed]",
      "text/plain": [
       "<Figure size 360x288 with 1 Axes>"
      ]
     },
     "metadata": {
      "needs_background": "light"
     },
     "output_type": "display_data"
    }
   ],
   "source": [
    "aa = mazda_dataset['Skewness']\n",
    "bb = pyradiomics_dataset['original_firstorder_Skewness']\n",
    "cc = lifex_dataset['CONVENTIONAL_Skewness']\n",
    "\n",
    "df = pd.DataFrame({'MaZda': aa, 'Pyradiomics': bb, 'LifeX': cc})\n",
    "\n",
    "df.plot.barh(figsize=(5, 4))\n",
    "\n",
    "plt.yticks(np.arange(len(aa)), rotation='vertical')\n",
    "plt.title(\"Skewness\")\n",
    "plt.show()"
   ]
  },
  {
   "cell_type": "code",
   "execution_count": 554,
   "metadata": {},
   "outputs": [
    {
     "data": {
      "image/png": "[encoded data removed]",
      "text/plain": [
       "<Figure size 1080x1080 with 30 Axes>"
      ]
     },
     "metadata": {
      "needs_background": "light"
     },
     "output_type": "display_data"
    }
   ],
   "source": [
    "fig, axs = plt.subplots(nrows=10, ncols=3, figsize=(15, 15))\n",
    "#                         ,subplot_kw={'xticks': [], 'yticks': []})\n",
    "\n",
    "for i, (ax, feature) in enumerate(zip(axs.flat, selected_features)):\n",
    "    ax.bar(pyradiomics_dataset.iloc[:,i], height=0.9, align='center')\n",
    "    ax.bar(mazda_dataset.iloc[:,i], height=0.9, align='center')\n",
    "    ax.bar(lifex_dataset.iloc[:,i], height=0.9, align='center')\n",
    "    ax.set_title(selected_features[i])\n",
    "\n",
    "plt.tight_layout()\n",
    "plt.show()"
   ]
  },
  {
   "cell_type": "code",
   "execution_count": null,
   "metadata": {},
   "outputs": [],
   "source": []
  }
 ],
 "metadata": {
  "kernelspec": {
   "display_name": "Python 3",
   "language": "python",
   "name": "python3"
  },
  "language_info": {
   "codemirror_mode": {
    "name": "ipython",
    "version": 3
   },
   "file_extension": ".py",
   "mimetype": "text/x-python",
   "name": "python",
   "nbconvert_exporter": "python",
   "pygments_lexer": "ipython3",
   "version": "3.7.7"
  }
 },
 "nbformat": 4,
 "nbformat_minor": 4
}
