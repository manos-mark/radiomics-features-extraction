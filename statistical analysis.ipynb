{
 "cells": [
  {
   "cell_type": "code",
   "execution_count": 25,
   "metadata": {},
   "outputs": [],
   "source": [
    "import pandas as pd\n",
    "import numpy as np\n",
    "import os"
   ]
  },
  {
   "cell_type": "code",
   "execution_count": 26,
   "metadata": {},
   "outputs": [
    {
     "data": {
      "text/plain": [
       "'/home/manos/git/radiomics-features-extraction'"
      ]
     },
     "execution_count": 26,
     "metadata": {},
     "output_type": "execute_result"
    }
   ],
   "source": [
    "root = !pwd\n",
    "root = root[0]\n",
    "root"
   ]
  },
  {
   "cell_type": "code",
   "execution_count": 27,
   "metadata": {},
   "outputs": [],
   "source": [
    "def find_best_ten(path):\n",
    "    # Get the file as datafram\n",
    "    df = pd.read_pickle(os.path.join(path))\n",
    "\n",
    "    df.columns = selected_features\n",
    "    \n",
    "    # Get the last row and sort its columns\n",
    "    df = df[-1:].min().sort_values(ascending=True)\n",
    "    # Get 10 minimum values\n",
    "    return df[:10] #df[df < 0.05][:10] "
   ]
  },
  {
   "cell_type": "code",
   "execution_count": 28,
   "metadata": {},
   "outputs": [],
   "source": [
    "selected_features = pd.read_excel(os.path.join(root,'info','info.xlsx'), usecols='B', skiprows=[34,35,36,37])\n",
    "selected_features = selected_features.dropna().values.flatten()"
   ]
  },
  {
   "cell_type": "markdown",
   "metadata": {},
   "source": [
    "# Results\n",
    "For each software find the best 10 p-values"
   ]
  },
  {
   "cell_type": "markdown",
   "metadata": {},
   "source": [
    "## EGFR"
   ]
  },
  {
   "cell_type": "code",
   "execution_count": 29,
   "metadata": {},
   "outputs": [
    {
     "data": {
      "text/plain": [
       "GLCM correlation                            0.099010\n",
       "Mean Intensity                              0.111887\n",
       "Discretised intensity skewness              0.138835\n",
       "GLRLM Short Run High Gray Level Emphasis    0.141198\n",
       "GLRLM Short Run Emphasis                    0.212482\n",
       "GLCM angular second moment                  0.268096\n",
       "GLCM joint entropy                          0.279934\n",
       "GLCM inverse difference                     0.355371\n",
       "GLRLM Low Gray Level Run Emphasis           0.433658\n",
       "GLRLM High Gray Level Run Emphasis          0.449627\n",
       "dtype: float64"
      ]
     },
     "execution_count": 29,
     "metadata": {},
     "output_type": "execute_result"
    }
   ],
   "source": [
    "lifex_egfr_best = find_best_ten(os.path.join(root, 'LifeX','data', 'statistical-analysis', 'full_ANOVA-EGFR: best0 0.05.pkl'))\n",
    "lifex_egfr_best"
   ]
  },
  {
   "cell_type": "code",
   "execution_count": 30,
   "metadata": {},
   "outputs": [
    {
     "data": {
      "text/plain": [
       "GLRLM Short Run High Gray Level Emphasis    0.040452\n",
       "GLRLM High Gray Level Run Emphasis          0.058063\n",
       "NGTDM contrast                              0.108237\n",
       "Mean Intensity                              0.112445\n",
       "Discretised intensity skewness              0.139091\n",
       "GLCM correlation                            0.188720\n",
       "NGTDM coarseness                            0.202190\n",
       "GLCM inverse difference                     0.226477\n",
       "GLCM contrast                               0.271943\n",
       "GLCM dissimilarity                          0.349379\n",
       "dtype: float64"
      ]
     },
     "execution_count": 30,
     "metadata": {},
     "output_type": "execute_result"
    }
   ],
   "source": [
    "pyradiomics_egfr_best = find_best_ten(os.path.join(root, 'pyradiomics','data', 'statistical-analysis', 'full_ANOVA-EGFR: best1 0.05.pkl'))\n",
    "pyradiomics_egfr_best"
   ]
  },
  {
   "cell_type": "code",
   "execution_count": 31,
   "metadata": {},
   "outputs": [
    {
     "data": {
      "text/plain": [
       "Mean Intensity                     0.002295\n",
       "GLRLM Short Run Emphasis           0.014528\n",
       "GLCM inverse difference            0.071632\n",
       "GLCM contrast                      0.094786\n",
       "GLCM angular second moment         0.103265\n",
       "GLRLM Run Length Non Uniformity    0.108677\n",
       "GLCM joint entropy                 0.121058\n",
       "GLCM correlation                   0.237104\n",
       "GLRLM Gray Level Non Uniformity    0.321149\n",
       "GLRLM Long Run Emphasis            0.749323\n",
       "dtype: float64"
      ]
     },
     "execution_count": 31,
     "metadata": {},
     "output_type": "execute_result"
    }
   ],
   "source": [
    "mazda_egfr_best = find_best_ten(os.path.join(root, 'MaZda','data', 'statistical-analysis', 'full_ANOVA-EGFR: best2 0.05.pkl'))\n",
    "mazda_egfr_best"
   ]
  },
  {
   "cell_type": "code",
   "execution_count": 32,
   "metadata": {
    "scrolled": true
   },
   "outputs": [
    {
     "data": {
      "text/html": [
       "<div>\n",
       "<style scoped>\n",
       "    .dataframe tbody tr th:only-of-type {\n",
       "        vertical-align: middle;\n",
       "    }\n",
       "\n",
       "    .dataframe tbody tr th {\n",
       "        vertical-align: top;\n",
       "    }\n",
       "\n",
       "    .dataframe thead th {\n",
       "        text-align: right;\n",
       "    }\n",
       "</style>\n",
       "<table border=\"1\" class=\"dataframe\">\n",
       "  <thead>\n",
       "    <tr style=\"text-align: right;\">\n",
       "      <th></th>\n",
       "      <th>LifeX Features</th>\n",
       "      <th>LifeX Values</th>\n",
       "      <th>Pyradiomics Features</th>\n",
       "      <th>Pyradiomics Values</th>\n",
       "      <th>MaZda Features</th>\n",
       "      <th>MaZda Values</th>\n",
       "    </tr>\n",
       "  </thead>\n",
       "  <tbody>\n",
       "    <tr>\n",
       "      <th>0</th>\n",
       "      <td>GLCM correlation</td>\n",
       "      <td>0.09901</td>\n",
       "      <td>GLRLM Short Run High Gray Level Emphasis</td>\n",
       "      <td>0.0404525</td>\n",
       "      <td>Mean Intensity</td>\n",
       "      <td>0.00229534</td>\n",
       "    </tr>\n",
       "    <tr>\n",
       "      <th>1</th>\n",
       "      <td>Mean Intensity</td>\n",
       "      <td>0.111887</td>\n",
       "      <td>GLRLM High Gray Level Run Emphasis</td>\n",
       "      <td>0.0580626</td>\n",
       "      <td>GLRLM Short Run Emphasis</td>\n",
       "      <td>0.0145276</td>\n",
       "    </tr>\n",
       "    <tr>\n",
       "      <th>2</th>\n",
       "      <td>Discretised intensity skewness</td>\n",
       "      <td>0.138835</td>\n",
       "      <td>NGTDM contrast</td>\n",
       "      <td>0.108237</td>\n",
       "      <td>GLCM inverse difference</td>\n",
       "      <td>0.0716316</td>\n",
       "    </tr>\n",
       "    <tr>\n",
       "      <th>3</th>\n",
       "      <td>GLRLM Short Run High Gray Level Emphasis</td>\n",
       "      <td>0.141198</td>\n",
       "      <td>Mean Intensity</td>\n",
       "      <td>0.112445</td>\n",
       "      <td>GLCM contrast</td>\n",
       "      <td>0.0947859</td>\n",
       "    </tr>\n",
       "    <tr>\n",
       "      <th>4</th>\n",
       "      <td>GLRLM Short Run Emphasis</td>\n",
       "      <td>0.212482</td>\n",
       "      <td>Discretised intensity skewness</td>\n",
       "      <td>0.139091</td>\n",
       "      <td>GLCM angular second moment</td>\n",
       "      <td>0.103265</td>\n",
       "    </tr>\n",
       "    <tr>\n",
       "      <th>5</th>\n",
       "      <td>GLCM angular second moment</td>\n",
       "      <td>0.268096</td>\n",
       "      <td>GLCM correlation</td>\n",
       "      <td>0.18872</td>\n",
       "      <td>GLRLM Run Length Non Uniformity</td>\n",
       "      <td>0.108677</td>\n",
       "    </tr>\n",
       "    <tr>\n",
       "      <th>6</th>\n",
       "      <td>GLCM joint entropy</td>\n",
       "      <td>0.279934</td>\n",
       "      <td>NGTDM coarseness</td>\n",
       "      <td>0.20219</td>\n",
       "      <td>GLCM joint entropy</td>\n",
       "      <td>0.121058</td>\n",
       "    </tr>\n",
       "    <tr>\n",
       "      <th>7</th>\n",
       "      <td>GLCM inverse difference</td>\n",
       "      <td>0.355371</td>\n",
       "      <td>GLCM inverse difference</td>\n",
       "      <td>0.226477</td>\n",
       "      <td>GLCM correlation</td>\n",
       "      <td>0.237104</td>\n",
       "    </tr>\n",
       "    <tr>\n",
       "      <th>8</th>\n",
       "      <td>GLRLM Low Gray Level Run Emphasis</td>\n",
       "      <td>0.433658</td>\n",
       "      <td>GLCM contrast</td>\n",
       "      <td>0.271943</td>\n",
       "      <td>GLRLM Gray Level Non Uniformity</td>\n",
       "      <td>0.321149</td>\n",
       "    </tr>\n",
       "    <tr>\n",
       "      <th>9</th>\n",
       "      <td>GLRLM High Gray Level Run Emphasis</td>\n",
       "      <td>0.449627</td>\n",
       "      <td>GLCM dissimilarity</td>\n",
       "      <td>0.349379</td>\n",
       "      <td>GLRLM Long Run Emphasis</td>\n",
       "      <td>0.749323</td>\n",
       "    </tr>\n",
       "  </tbody>\n",
       "</table>\n",
       "</div>"
      ],
      "text/plain": [
       "                             LifeX Features LifeX Values  \\\n",
       "0                          GLCM correlation      0.09901   \n",
       "1                            Mean Intensity     0.111887   \n",
       "2            Discretised intensity skewness     0.138835   \n",
       "3  GLRLM Short Run High Gray Level Emphasis     0.141198   \n",
       "4                  GLRLM Short Run Emphasis     0.212482   \n",
       "5                GLCM angular second moment     0.268096   \n",
       "6                        GLCM joint entropy     0.279934   \n",
       "7                   GLCM inverse difference     0.355371   \n",
       "8         GLRLM Low Gray Level Run Emphasis     0.433658   \n",
       "9        GLRLM High Gray Level Run Emphasis     0.449627   \n",
       "\n",
       "                       Pyradiomics Features Pyradiomics Values  \\\n",
       "0  GLRLM Short Run High Gray Level Emphasis          0.0404525   \n",
       "1        GLRLM High Gray Level Run Emphasis          0.0580626   \n",
       "2                            NGTDM contrast           0.108237   \n",
       "3                            Mean Intensity           0.112445   \n",
       "4            Discretised intensity skewness           0.139091   \n",
       "5                          GLCM correlation            0.18872   \n",
       "6                          NGTDM coarseness            0.20219   \n",
       "7                   GLCM inverse difference           0.226477   \n",
       "8                             GLCM contrast           0.271943   \n",
       "9                        GLCM dissimilarity           0.349379   \n",
       "\n",
       "                    MaZda Features MaZda Values  \n",
       "0                   Mean Intensity   0.00229534  \n",
       "1         GLRLM Short Run Emphasis    0.0145276  \n",
       "2          GLCM inverse difference    0.0716316  \n",
       "3                    GLCM contrast    0.0947859  \n",
       "4       GLCM angular second moment     0.103265  \n",
       "5  GLRLM Run Length Non Uniformity     0.108677  \n",
       "6               GLCM joint entropy     0.121058  \n",
       "7                 GLCM correlation     0.237104  \n",
       "8  GLRLM Gray Level Non Uniformity     0.321149  \n",
       "9          GLRLM Long Run Emphasis     0.749323  "
      ]
     },
     "execution_count": 32,
     "metadata": {},
     "output_type": "execute_result"
    }
   ],
   "source": [
    "egfr_results = pd.DataFrame(\n",
    "    np.column_stack([lifex_egfr_best.index, lifex_egfr_best, pyradiomics_egfr_best.index,\n",
    "                     pyradiomics_egfr_best, mazda_egfr_best.index, mazda_egfr_best]),\n",
    "    columns=['LifeX Features', 'LifeX Values', 'Pyradiomics Features',\n",
    "             'Pyradiomics Values', 'MaZda Features', 'MaZda Values']\n",
    ")\n",
    "egfr_results"
   ]
  },
  {
   "cell_type": "markdown",
   "metadata": {},
   "source": [
    "## KRAS"
   ]
  },
  {
   "cell_type": "code",
   "execution_count": 33,
   "metadata": {},
   "outputs": [
    {
     "data": {
      "text/plain": [
       "NGTDM contrast                             0.039845\n",
       "GLCM contrast                              0.060338\n",
       "GLCM dissimilarity                         0.069007\n",
       "GLRLM Run Percentage                       0.104414\n",
       "GLCM inverse difference                    0.143187\n",
       "GLRLM Short Run Low Gray Level Emphasis    0.145561\n",
       "GLRLM Low Gray Level Run Emphasis          0.179420\n",
       "GLCM joint entropy                         0.202920\n",
       "GLRLM High Gray Level Run Emphasis         0.222600\n",
       "NGTDM coarseness                           0.262246\n",
       "dtype: float64"
      ]
     },
     "execution_count": 33,
     "metadata": {},
     "output_type": "execute_result"
    }
   ],
   "source": [
    "lifex_kras_best = find_best_ten(os.path.join(root, 'LifeX','data', 'statistical-analysis', 'full_ANOVA-KRAS: best1 0.05.pkl'))\n",
    "lifex_kras_best"
   ]
  },
  {
   "cell_type": "code",
   "execution_count": 34,
   "metadata": {},
   "outputs": [
    {
     "data": {
      "text/plain": [
       "GLCM inverse difference                    0.039038\n",
       "GLRLM Short Run Low Gray Level Emphasis    0.053383\n",
       "GLCM contrast                              0.071304\n",
       "GLRLM Low Gray Level Run Emphasis          0.073587\n",
       "NGTDM contrast                             0.077962\n",
       "GLCM dissimilarity                         0.087450\n",
       "GLRLM Short Run Emphasis                   0.188357\n",
       "GLRLM Run Percentage                       0.199206\n",
       "GLRLM Long Run Emphasis                    0.241412\n",
       "GLRLM Long Run Low Gray Level Emphasis     0.273403\n",
       "dtype: float64"
      ]
     },
     "execution_count": 34,
     "metadata": {},
     "output_type": "execute_result"
    }
   ],
   "source": [
    "pyradiomics_kras_best = find_best_ten(os.path.join(root, 'pyradiomics','data', 'statistical-analysis', 'full_ANOVA-KRAS: best1 0.05.pkl'))\n",
    "pyradiomics_kras_best"
   ]
  },
  {
   "cell_type": "code",
   "execution_count": 35,
   "metadata": {},
   "outputs": [
    {
     "data": {
      "text/plain": [
       "Mean Intensity                     0.260381\n",
       "GLCM joint entropy                 0.312287\n",
       "GLCM angular second moment         0.327748\n",
       "Kurtosis                           0.328143\n",
       "GLCM inverse difference            0.338730\n",
       "GLRLM Gray Level Non Uniformity    0.375513\n",
       "GLCM correlation                   0.430989\n",
       "GLCM contrast                      0.437154\n",
       "GLRLM Short Run Emphasis           0.489502\n",
       "Discretised intensity skewness     0.574371\n",
       "dtype: float64"
      ]
     },
     "execution_count": 35,
     "metadata": {},
     "output_type": "execute_result"
    }
   ],
   "source": [
    "mazda_kras_best = find_best_ten(os.path.join(root, 'MaZda','data', 'statistical-analysis', 'full_ANOVA-KRAS: best0 0.05.pkl'))\n",
    "mazda_kras_best"
   ]
  },
  {
   "cell_type": "code",
   "execution_count": 36,
   "metadata": {},
   "outputs": [
    {
     "data": {
      "text/html": [
       "<div>\n",
       "<style scoped>\n",
       "    .dataframe tbody tr th:only-of-type {\n",
       "        vertical-align: middle;\n",
       "    }\n",
       "\n",
       "    .dataframe tbody tr th {\n",
       "        vertical-align: top;\n",
       "    }\n",
       "\n",
       "    .dataframe thead th {\n",
       "        text-align: right;\n",
       "    }\n",
       "</style>\n",
       "<table border=\"1\" class=\"dataframe\">\n",
       "  <thead>\n",
       "    <tr style=\"text-align: right;\">\n",
       "      <th></th>\n",
       "      <th>LifeX Features</th>\n",
       "      <th>LifeX Values</th>\n",
       "      <th>Pyradiomics Features</th>\n",
       "      <th>Pyradiomics Values</th>\n",
       "      <th>MaZda Features</th>\n",
       "      <th>MaZda Values</th>\n",
       "    </tr>\n",
       "  </thead>\n",
       "  <tbody>\n",
       "    <tr>\n",
       "      <th>0</th>\n",
       "      <td>NGTDM contrast</td>\n",
       "      <td>0.0398447</td>\n",
       "      <td>GLCM inverse difference</td>\n",
       "      <td>0.0390377</td>\n",
       "      <td>Mean Intensity</td>\n",
       "      <td>0.260381</td>\n",
       "    </tr>\n",
       "    <tr>\n",
       "      <th>1</th>\n",
       "      <td>GLCM contrast</td>\n",
       "      <td>0.0603385</td>\n",
       "      <td>GLRLM Short Run Low Gray Level Emphasis</td>\n",
       "      <td>0.0533828</td>\n",
       "      <td>GLCM joint entropy</td>\n",
       "      <td>0.312287</td>\n",
       "    </tr>\n",
       "    <tr>\n",
       "      <th>2</th>\n",
       "      <td>GLCM dissimilarity</td>\n",
       "      <td>0.0690071</td>\n",
       "      <td>GLCM contrast</td>\n",
       "      <td>0.0713039</td>\n",
       "      <td>GLCM angular second moment</td>\n",
       "      <td>0.327748</td>\n",
       "    </tr>\n",
       "    <tr>\n",
       "      <th>3</th>\n",
       "      <td>GLRLM Run Percentage</td>\n",
       "      <td>0.104414</td>\n",
       "      <td>GLRLM Low Gray Level Run Emphasis</td>\n",
       "      <td>0.0735871</td>\n",
       "      <td>Kurtosis</td>\n",
       "      <td>0.328143</td>\n",
       "    </tr>\n",
       "    <tr>\n",
       "      <th>4</th>\n",
       "      <td>GLCM inverse difference</td>\n",
       "      <td>0.143187</td>\n",
       "      <td>NGTDM contrast</td>\n",
       "      <td>0.0779621</td>\n",
       "      <td>GLCM inverse difference</td>\n",
       "      <td>0.33873</td>\n",
       "    </tr>\n",
       "    <tr>\n",
       "      <th>5</th>\n",
       "      <td>GLRLM Short Run Low Gray Level Emphasis</td>\n",
       "      <td>0.145561</td>\n",
       "      <td>GLCM dissimilarity</td>\n",
       "      <td>0.0874497</td>\n",
       "      <td>GLRLM Gray Level Non Uniformity</td>\n",
       "      <td>0.375513</td>\n",
       "    </tr>\n",
       "    <tr>\n",
       "      <th>6</th>\n",
       "      <td>GLRLM Low Gray Level Run Emphasis</td>\n",
       "      <td>0.17942</td>\n",
       "      <td>GLRLM Short Run Emphasis</td>\n",
       "      <td>0.188357</td>\n",
       "      <td>GLCM correlation</td>\n",
       "      <td>0.430989</td>\n",
       "    </tr>\n",
       "    <tr>\n",
       "      <th>7</th>\n",
       "      <td>GLCM joint entropy</td>\n",
       "      <td>0.20292</td>\n",
       "      <td>GLRLM Run Percentage</td>\n",
       "      <td>0.199206</td>\n",
       "      <td>GLCM contrast</td>\n",
       "      <td>0.437154</td>\n",
       "    </tr>\n",
       "    <tr>\n",
       "      <th>8</th>\n",
       "      <td>GLRLM High Gray Level Run Emphasis</td>\n",
       "      <td>0.2226</td>\n",
       "      <td>GLRLM Long Run Emphasis</td>\n",
       "      <td>0.241412</td>\n",
       "      <td>GLRLM Short Run Emphasis</td>\n",
       "      <td>0.489502</td>\n",
       "    </tr>\n",
       "    <tr>\n",
       "      <th>9</th>\n",
       "      <td>NGTDM coarseness</td>\n",
       "      <td>0.262246</td>\n",
       "      <td>GLRLM Long Run Low Gray Level Emphasis</td>\n",
       "      <td>0.273403</td>\n",
       "      <td>Discretised intensity skewness</td>\n",
       "      <td>0.574371</td>\n",
       "    </tr>\n",
       "  </tbody>\n",
       "</table>\n",
       "</div>"
      ],
      "text/plain": [
       "                            LifeX Features LifeX Values  \\\n",
       "0                           NGTDM contrast    0.0398447   \n",
       "1                            GLCM contrast    0.0603385   \n",
       "2                       GLCM dissimilarity    0.0690071   \n",
       "3                     GLRLM Run Percentage     0.104414   \n",
       "4                  GLCM inverse difference     0.143187   \n",
       "5  GLRLM Short Run Low Gray Level Emphasis     0.145561   \n",
       "6        GLRLM Low Gray Level Run Emphasis      0.17942   \n",
       "7                       GLCM joint entropy      0.20292   \n",
       "8       GLRLM High Gray Level Run Emphasis       0.2226   \n",
       "9                         NGTDM coarseness     0.262246   \n",
       "\n",
       "                      Pyradiomics Features Pyradiomics Values  \\\n",
       "0                  GLCM inverse difference          0.0390377   \n",
       "1  GLRLM Short Run Low Gray Level Emphasis          0.0533828   \n",
       "2                            GLCM contrast          0.0713039   \n",
       "3        GLRLM Low Gray Level Run Emphasis          0.0735871   \n",
       "4                           NGTDM contrast          0.0779621   \n",
       "5                       GLCM dissimilarity          0.0874497   \n",
       "6                 GLRLM Short Run Emphasis           0.188357   \n",
       "7                     GLRLM Run Percentage           0.199206   \n",
       "8                  GLRLM Long Run Emphasis           0.241412   \n",
       "9   GLRLM Long Run Low Gray Level Emphasis           0.273403   \n",
       "\n",
       "                    MaZda Features MaZda Values  \n",
       "0                   Mean Intensity     0.260381  \n",
       "1               GLCM joint entropy     0.312287  \n",
       "2       GLCM angular second moment     0.327748  \n",
       "3                         Kurtosis     0.328143  \n",
       "4          GLCM inverse difference      0.33873  \n",
       "5  GLRLM Gray Level Non Uniformity     0.375513  \n",
       "6                 GLCM correlation     0.430989  \n",
       "7                    GLCM contrast     0.437154  \n",
       "8         GLRLM Short Run Emphasis     0.489502  \n",
       "9   Discretised intensity skewness     0.574371  "
      ]
     },
     "execution_count": 36,
     "metadata": {},
     "output_type": "execute_result"
    }
   ],
   "source": [
    "kras_results = pd.DataFrame(\n",
    "    np.column_stack([lifex_kras_best.index, lifex_kras_best, pyradiomics_kras_best.index,\n",
    "                     pyradiomics_kras_best, mazda_kras_best.index, mazda_kras_best]),\n",
    "    columns=['LifeX Features', 'LifeX Values', 'Pyradiomics Features',\n",
    "             'Pyradiomics Values', 'MaZda Features', 'MaZda Values']\n",
    ")\n",
    "kras_results"
   ]
  },
  {
   "cell_type": "markdown",
   "metadata": {},
   "source": [
    "## SUBTYPES"
   ]
  },
  {
   "cell_type": "code",
   "execution_count": 37,
   "metadata": {},
   "outputs": [
    {
     "data": {
      "text/plain": [
       "Mean Intensity                              0.008942\n",
       "Discretised intensity skewness              0.011302\n",
       "GLRLM Low Gray Level Run Emphasis           0.023665\n",
       "GLRLM Short Run Low Gray Level Emphasis     0.024330\n",
       "GLCM angular second moment                  0.035837\n",
       "Surface area (mesh)                         0.036516\n",
       "GLCM joint entropy                          0.044110\n",
       "GLRLM Run Percentage                        0.049681\n",
       "GLCM inverse difference                     0.055440\n",
       "GLRLM Short Run High Gray Level Emphasis    0.155176\n",
       "dtype: float64"
      ]
     },
     "execution_count": 37,
     "metadata": {},
     "output_type": "execute_result"
    }
   ],
   "source": [
    "lifex_subtypes_best = find_best_ten(os.path.join(root, 'LifeX','data', 'statistical-analysis', 'full_ANOVA-SUBTYPES: best8 0.05.pkl'))\n",
    "lifex_subtypes_best"
   ]
  },
  {
   "cell_type": "code",
   "execution_count": 38,
   "metadata": {},
   "outputs": [
    {
     "data": {
      "text/plain": [
       "GLRLM High Gray Level Run Emphasis          0.002166\n",
       "GLRLM Short Run High Gray Level Emphasis    0.002369\n",
       "Mean Intensity                              0.006398\n",
       "Discretised intensity skewness              0.008153\n",
       "GLRLM Long Run High Gray Level Emphasis     0.008920\n",
       "Surface area (mesh)                         0.036401\n",
       "volume (voxel counting)                     0.113684\n",
       "GLCM angular second moment                  0.174576\n",
       "GLCM contrast                               0.211600\n",
       "GLRLM Long Run Emphasis                     0.339793\n",
       "dtype: float64"
      ]
     },
     "execution_count": 38,
     "metadata": {},
     "output_type": "execute_result"
    }
   ],
   "source": [
    "pyradiomics_subtypes_best = find_best_ten(os.path.join(root, 'pyradiomics','data', 'statistical-analysis', 'full_ANOVA-SUBTYPES: best6 0.05.pkl'))\n",
    "pyradiomics_subtypes_best"
   ]
  },
  {
   "cell_type": "code",
   "execution_count": 39,
   "metadata": {},
   "outputs": [
    {
     "data": {
      "text/plain": [
       "Discretised intensity skewness     0.065567\n",
       "GLRLM Gray Level Non Uniformity    0.071633\n",
       "GLRLM Long Run Emphasis            0.075720\n",
       "Mean Intensity                     0.125863\n",
       "GLCM joint entropy                 0.126666\n",
       "GLCM correlation                   0.127431\n",
       "GLCM angular second moment         0.135443\n",
       "GLCM inverse difference            0.155991\n",
       "GLCM contrast                      0.164261\n",
       "GLRLM Short Run Emphasis           0.663332\n",
       "dtype: float64"
      ]
     },
     "execution_count": 39,
     "metadata": {},
     "output_type": "execute_result"
    }
   ],
   "source": [
    "mazda_subtypes_best = find_best_ten(os.path.join(root, 'MaZda','data', 'statistical-analysis', 'full_ANOVA-SUBTYPES: best0 0.05.pkl'))\n",
    "mazda_subtypes_best"
   ]
  },
  {
   "cell_type": "code",
   "execution_count": 40,
   "metadata": {},
   "outputs": [
    {
     "data": {
      "text/html": [
       "<div>\n",
       "<style scoped>\n",
       "    .dataframe tbody tr th:only-of-type {\n",
       "        vertical-align: middle;\n",
       "    }\n",
       "\n",
       "    .dataframe tbody tr th {\n",
       "        vertical-align: top;\n",
       "    }\n",
       "\n",
       "    .dataframe thead th {\n",
       "        text-align: right;\n",
       "    }\n",
       "</style>\n",
       "<table border=\"1\" class=\"dataframe\">\n",
       "  <thead>\n",
       "    <tr style=\"text-align: right;\">\n",
       "      <th></th>\n",
       "      <th>LifeX Features</th>\n",
       "      <th>LifeX Values</th>\n",
       "      <th>Pyradiomics Features</th>\n",
       "      <th>Pyradiomics Values</th>\n",
       "      <th>MaZda Features</th>\n",
       "      <th>MaZda Values</th>\n",
       "    </tr>\n",
       "  </thead>\n",
       "  <tbody>\n",
       "    <tr>\n",
       "      <th>0</th>\n",
       "      <td>Mean Intensity</td>\n",
       "      <td>0.00894208</td>\n",
       "      <td>GLRLM High Gray Level Run Emphasis</td>\n",
       "      <td>0.00216584</td>\n",
       "      <td>Discretised intensity skewness</td>\n",
       "      <td>0.0655674</td>\n",
       "    </tr>\n",
       "    <tr>\n",
       "      <th>1</th>\n",
       "      <td>Discretised intensity skewness</td>\n",
       "      <td>0.0113021</td>\n",
       "      <td>GLRLM Short Run High Gray Level Emphasis</td>\n",
       "      <td>0.00236893</td>\n",
       "      <td>GLRLM Gray Level Non Uniformity</td>\n",
       "      <td>0.0716328</td>\n",
       "    </tr>\n",
       "    <tr>\n",
       "      <th>2</th>\n",
       "      <td>GLRLM Low Gray Level Run Emphasis</td>\n",
       "      <td>0.0236649</td>\n",
       "      <td>Mean Intensity</td>\n",
       "      <td>0.00639788</td>\n",
       "      <td>GLRLM Long Run Emphasis</td>\n",
       "      <td>0.0757197</td>\n",
       "    </tr>\n",
       "    <tr>\n",
       "      <th>3</th>\n",
       "      <td>GLRLM Short Run Low Gray Level Emphasis</td>\n",
       "      <td>0.0243298</td>\n",
       "      <td>Discretised intensity skewness</td>\n",
       "      <td>0.00815286</td>\n",
       "      <td>Mean Intensity</td>\n",
       "      <td>0.125863</td>\n",
       "    </tr>\n",
       "    <tr>\n",
       "      <th>4</th>\n",
       "      <td>GLCM angular second moment</td>\n",
       "      <td>0.0358366</td>\n",
       "      <td>GLRLM Long Run High Gray Level Emphasis</td>\n",
       "      <td>0.00891966</td>\n",
       "      <td>GLCM joint entropy</td>\n",
       "      <td>0.126666</td>\n",
       "    </tr>\n",
       "    <tr>\n",
       "      <th>5</th>\n",
       "      <td>Surface area (mesh)</td>\n",
       "      <td>0.0365158</td>\n",
       "      <td>Surface area (mesh)</td>\n",
       "      <td>0.0364015</td>\n",
       "      <td>GLCM correlation</td>\n",
       "      <td>0.127431</td>\n",
       "    </tr>\n",
       "    <tr>\n",
       "      <th>6</th>\n",
       "      <td>GLCM joint entropy</td>\n",
       "      <td>0.0441099</td>\n",
       "      <td>volume (voxel counting)</td>\n",
       "      <td>0.113684</td>\n",
       "      <td>GLCM angular second moment</td>\n",
       "      <td>0.135443</td>\n",
       "    </tr>\n",
       "    <tr>\n",
       "      <th>7</th>\n",
       "      <td>GLRLM Run Percentage</td>\n",
       "      <td>0.0496813</td>\n",
       "      <td>GLCM angular second moment</td>\n",
       "      <td>0.174576</td>\n",
       "      <td>GLCM inverse difference</td>\n",
       "      <td>0.155991</td>\n",
       "    </tr>\n",
       "    <tr>\n",
       "      <th>8</th>\n",
       "      <td>GLCM inverse difference</td>\n",
       "      <td>0.0554401</td>\n",
       "      <td>GLCM contrast</td>\n",
       "      <td>0.2116</td>\n",
       "      <td>GLCM contrast</td>\n",
       "      <td>0.164261</td>\n",
       "    </tr>\n",
       "    <tr>\n",
       "      <th>9</th>\n",
       "      <td>GLRLM Short Run High Gray Level Emphasis</td>\n",
       "      <td>0.155176</td>\n",
       "      <td>GLRLM Long Run Emphasis</td>\n",
       "      <td>0.339793</td>\n",
       "      <td>GLRLM Short Run Emphasis</td>\n",
       "      <td>0.663332</td>\n",
       "    </tr>\n",
       "  </tbody>\n",
       "</table>\n",
       "</div>"
      ],
      "text/plain": [
       "                             LifeX Features LifeX Values  \\\n",
       "0                            Mean Intensity   0.00894208   \n",
       "1            Discretised intensity skewness    0.0113021   \n",
       "2         GLRLM Low Gray Level Run Emphasis    0.0236649   \n",
       "3   GLRLM Short Run Low Gray Level Emphasis    0.0243298   \n",
       "4                GLCM angular second moment    0.0358366   \n",
       "5                       Surface area (mesh)    0.0365158   \n",
       "6                        GLCM joint entropy    0.0441099   \n",
       "7                      GLRLM Run Percentage    0.0496813   \n",
       "8                   GLCM inverse difference    0.0554401   \n",
       "9  GLRLM Short Run High Gray Level Emphasis     0.155176   \n",
       "\n",
       "                       Pyradiomics Features Pyradiomics Values  \\\n",
       "0        GLRLM High Gray Level Run Emphasis         0.00216584   \n",
       "1  GLRLM Short Run High Gray Level Emphasis         0.00236893   \n",
       "2                            Mean Intensity         0.00639788   \n",
       "3            Discretised intensity skewness         0.00815286   \n",
       "4   GLRLM Long Run High Gray Level Emphasis         0.00891966   \n",
       "5                       Surface area (mesh)          0.0364015   \n",
       "6                   volume (voxel counting)           0.113684   \n",
       "7                GLCM angular second moment           0.174576   \n",
       "8                             GLCM contrast             0.2116   \n",
       "9                   GLRLM Long Run Emphasis           0.339793   \n",
       "\n",
       "                    MaZda Features MaZda Values  \n",
       "0   Discretised intensity skewness    0.0655674  \n",
       "1  GLRLM Gray Level Non Uniformity    0.0716328  \n",
       "2          GLRLM Long Run Emphasis    0.0757197  \n",
       "3                   Mean Intensity     0.125863  \n",
       "4               GLCM joint entropy     0.126666  \n",
       "5                 GLCM correlation     0.127431  \n",
       "6       GLCM angular second moment     0.135443  \n",
       "7          GLCM inverse difference     0.155991  \n",
       "8                    GLCM contrast     0.164261  \n",
       "9         GLRLM Short Run Emphasis     0.663332  "
      ]
     },
     "execution_count": 40,
     "metadata": {},
     "output_type": "execute_result"
    }
   ],
   "source": [
    "subtypes_results = pd.DataFrame(\n",
    "    np.column_stack([lifex_subtypes_best.index, lifex_subtypes_best, pyradiomics_subtypes_best.index,\n",
    "                     pyradiomics_subtypes_best, mazda_subtypes_best.index, mazda_subtypes_best]),\n",
    "    columns=['LifeX Features', 'LifeX Values', 'Pyradiomics Features',\n",
    "             'Pyradiomics Values', 'MaZda Features', 'MaZda Values']\n",
    ")\n",
    "subtypes_results"
   ]
  },
  {
   "cell_type": "markdown",
   "metadata": {},
   "source": [
    "## SURVIVAL"
   ]
  },
  {
   "cell_type": "code",
   "execution_count": 41,
   "metadata": {},
   "outputs": [
    {
     "data": {
      "text/plain": [
       "Sphericity                                 0.017014\n",
       "Maximum Intensity                          0.032773\n",
       "GLCM correlation                           0.049936\n",
       "volume (voxel counting)                    0.055890\n",
       "GLRLM Long Run Low Gray Level Emphasis     0.058919\n",
       "GLRLM Gray Level Non Uniformity            0.078448\n",
       "Minimum Intensity                          0.084716\n",
       "GLRLM Long Run Emphasis                    0.105090\n",
       "GLRLM Long Run High Gray Level Emphasis    0.105797\n",
       "GLRLM Low Gray Level Run Emphasis          0.167043\n",
       "dtype: float64"
      ]
     },
     "execution_count": 41,
     "metadata": {},
     "output_type": "execute_result"
    }
   ],
   "source": [
    "lifex_survival_best = find_best_ten(os.path.join(root, 'LifeX','data', 'statistical-analysis', 'full_ANOVA-SURVIVAL: best3 0.05.pkl'))\n",
    "lifex_survival_best"
   ]
  },
  {
   "cell_type": "code",
   "execution_count": 42,
   "metadata": {},
   "outputs": [
    {
     "data": {
      "text/plain": [
       "GLRLM Long Run High Gray Level Emphasis    0.005439\n",
       "Sphericity                                 0.015789\n",
       "GLRLM Long Run Emphasis                    0.021106\n",
       "GLRLM Run Percentage                       0.028642\n",
       "NGTDM coarseness                           0.031171\n",
       "Maximum Intensity                          0.032421\n",
       "GLRLM Short Run Emphasis                   0.045617\n",
       "GLRLM High Gray Level Run Emphasis         0.058906\n",
       "Minimum Intensity                          0.074641\n",
       "GLRLM Run Length Non Uniformity            0.087252\n",
       "dtype: float64"
      ]
     },
     "execution_count": 42,
     "metadata": {},
     "output_type": "execute_result"
    }
   ],
   "source": [
    "pyradiomics_survival_best = find_best_ten(os.path.join(root, 'pyradiomics','data', 'statistical-analysis', 'full_ANOVA-SURVIVAL: best7 0.05.pkl'))\n",
    "pyradiomics_survival_best"
   ]
  },
  {
   "cell_type": "code",
   "execution_count": 43,
   "metadata": {},
   "outputs": [
    {
     "data": {
      "text/plain": [
       "GLRLM Long Run Emphasis            0.109660\n",
       "GLCM inverse difference            0.270249\n",
       "GLCM joint entropy                 0.336009\n",
       "GLRLM Gray Level Non Uniformity    0.394689\n",
       "Discretised intensity skewness     0.446180\n",
       "GLCM angular second moment         0.457283\n",
       "GLCM contrast                      0.497322\n",
       "GLCM correlation                   0.619352\n",
       "GLRLM Short Run Emphasis           0.755350\n",
       "GLRLM Run Length Non Uniformity    0.841498\n",
       "dtype: float64"
      ]
     },
     "execution_count": 43,
     "metadata": {},
     "output_type": "execute_result"
    }
   ],
   "source": [
    "mazda_survival_best = find_best_ten(os.path.join(root, 'MaZda','data', 'statistical-analysis', 'full_ANOVA-SURVIVAL: best0 0.05.pkl'))\n",
    "mazda_survival_best"
   ]
  },
  {
   "cell_type": "code",
   "execution_count": 44,
   "metadata": {},
   "outputs": [
    {
     "data": {
      "text/html": [
       "<div>\n",
       "<style scoped>\n",
       "    .dataframe tbody tr th:only-of-type {\n",
       "        vertical-align: middle;\n",
       "    }\n",
       "\n",
       "    .dataframe tbody tr th {\n",
       "        vertical-align: top;\n",
       "    }\n",
       "\n",
       "    .dataframe thead th {\n",
       "        text-align: right;\n",
       "    }\n",
       "</style>\n",
       "<table border=\"1\" class=\"dataframe\">\n",
       "  <thead>\n",
       "    <tr style=\"text-align: right;\">\n",
       "      <th></th>\n",
       "      <th>LifeX Features</th>\n",
       "      <th>LifeX Values</th>\n",
       "      <th>Pyradiomics Features</th>\n",
       "      <th>Pyradiomics Values</th>\n",
       "      <th>MaZda Features</th>\n",
       "      <th>MaZda Values</th>\n",
       "    </tr>\n",
       "  </thead>\n",
       "  <tbody>\n",
       "    <tr>\n",
       "      <th>0</th>\n",
       "      <td>Sphericity</td>\n",
       "      <td>0.0170144</td>\n",
       "      <td>GLRLM Long Run High Gray Level Emphasis</td>\n",
       "      <td>0.00543945</td>\n",
       "      <td>GLRLM Long Run Emphasis</td>\n",
       "      <td>0.10966</td>\n",
       "    </tr>\n",
       "    <tr>\n",
       "      <th>1</th>\n",
       "      <td>Maximum Intensity</td>\n",
       "      <td>0.0327728</td>\n",
       "      <td>Sphericity</td>\n",
       "      <td>0.0157885</td>\n",
       "      <td>GLCM inverse difference</td>\n",
       "      <td>0.270249</td>\n",
       "    </tr>\n",
       "    <tr>\n",
       "      <th>2</th>\n",
       "      <td>GLCM correlation</td>\n",
       "      <td>0.0499361</td>\n",
       "      <td>GLRLM Long Run Emphasis</td>\n",
       "      <td>0.0211063</td>\n",
       "      <td>GLCM joint entropy</td>\n",
       "      <td>0.336009</td>\n",
       "    </tr>\n",
       "    <tr>\n",
       "      <th>3</th>\n",
       "      <td>volume (voxel counting)</td>\n",
       "      <td>0.0558896</td>\n",
       "      <td>GLRLM Run Percentage</td>\n",
       "      <td>0.0286418</td>\n",
       "      <td>GLRLM Gray Level Non Uniformity</td>\n",
       "      <td>0.394689</td>\n",
       "    </tr>\n",
       "    <tr>\n",
       "      <th>4</th>\n",
       "      <td>GLRLM Long Run Low Gray Level Emphasis</td>\n",
       "      <td>0.0589187</td>\n",
       "      <td>NGTDM coarseness</td>\n",
       "      <td>0.031171</td>\n",
       "      <td>Discretised intensity skewness</td>\n",
       "      <td>0.44618</td>\n",
       "    </tr>\n",
       "    <tr>\n",
       "      <th>5</th>\n",
       "      <td>GLRLM Gray Level Non Uniformity</td>\n",
       "      <td>0.0784478</td>\n",
       "      <td>Maximum Intensity</td>\n",
       "      <td>0.0324212</td>\n",
       "      <td>GLCM angular second moment</td>\n",
       "      <td>0.457283</td>\n",
       "    </tr>\n",
       "    <tr>\n",
       "      <th>6</th>\n",
       "      <td>Minimum Intensity</td>\n",
       "      <td>0.0847156</td>\n",
       "      <td>GLRLM Short Run Emphasis</td>\n",
       "      <td>0.0456173</td>\n",
       "      <td>GLCM contrast</td>\n",
       "      <td>0.497322</td>\n",
       "    </tr>\n",
       "    <tr>\n",
       "      <th>7</th>\n",
       "      <td>GLRLM Long Run Emphasis</td>\n",
       "      <td>0.10509</td>\n",
       "      <td>GLRLM High Gray Level Run Emphasis</td>\n",
       "      <td>0.0589055</td>\n",
       "      <td>GLCM correlation</td>\n",
       "      <td>0.619352</td>\n",
       "    </tr>\n",
       "    <tr>\n",
       "      <th>8</th>\n",
       "      <td>GLRLM Long Run High Gray Level Emphasis</td>\n",
       "      <td>0.105797</td>\n",
       "      <td>Minimum Intensity</td>\n",
       "      <td>0.0746407</td>\n",
       "      <td>GLRLM Short Run Emphasis</td>\n",
       "      <td>0.75535</td>\n",
       "    </tr>\n",
       "    <tr>\n",
       "      <th>9</th>\n",
       "      <td>GLRLM Low Gray Level Run Emphasis</td>\n",
       "      <td>0.167043</td>\n",
       "      <td>GLRLM Run Length Non Uniformity</td>\n",
       "      <td>0.0872517</td>\n",
       "      <td>GLRLM Run Length Non Uniformity</td>\n",
       "      <td>0.841498</td>\n",
       "    </tr>\n",
       "  </tbody>\n",
       "</table>\n",
       "</div>"
      ],
      "text/plain": [
       "                            LifeX Features LifeX Values  \\\n",
       "0                               Sphericity    0.0170144   \n",
       "1                        Maximum Intensity    0.0327728   \n",
       "2                         GLCM correlation    0.0499361   \n",
       "3                  volume (voxel counting)    0.0558896   \n",
       "4   GLRLM Long Run Low Gray Level Emphasis    0.0589187   \n",
       "5          GLRLM Gray Level Non Uniformity    0.0784478   \n",
       "6                        Minimum Intensity    0.0847156   \n",
       "7                  GLRLM Long Run Emphasis      0.10509   \n",
       "8  GLRLM Long Run High Gray Level Emphasis     0.105797   \n",
       "9        GLRLM Low Gray Level Run Emphasis     0.167043   \n",
       "\n",
       "                      Pyradiomics Features Pyradiomics Values  \\\n",
       "0  GLRLM Long Run High Gray Level Emphasis         0.00543945   \n",
       "1                               Sphericity          0.0157885   \n",
       "2                  GLRLM Long Run Emphasis          0.0211063   \n",
       "3                     GLRLM Run Percentage          0.0286418   \n",
       "4                         NGTDM coarseness           0.031171   \n",
       "5                        Maximum Intensity          0.0324212   \n",
       "6                 GLRLM Short Run Emphasis          0.0456173   \n",
       "7       GLRLM High Gray Level Run Emphasis          0.0589055   \n",
       "8                        Minimum Intensity          0.0746407   \n",
       "9          GLRLM Run Length Non Uniformity          0.0872517   \n",
       "\n",
       "                    MaZda Features MaZda Values  \n",
       "0          GLRLM Long Run Emphasis      0.10966  \n",
       "1          GLCM inverse difference     0.270249  \n",
       "2               GLCM joint entropy     0.336009  \n",
       "3  GLRLM Gray Level Non Uniformity     0.394689  \n",
       "4   Discretised intensity skewness      0.44618  \n",
       "5       GLCM angular second moment     0.457283  \n",
       "6                    GLCM contrast     0.497322  \n",
       "7                 GLCM correlation     0.619352  \n",
       "8         GLRLM Short Run Emphasis      0.75535  \n",
       "9  GLRLM Run Length Non Uniformity     0.841498  "
      ]
     },
     "execution_count": 44,
     "metadata": {},
     "output_type": "execute_result"
    }
   ],
   "source": [
    "survival_results = pd.DataFrame(\n",
    "    np.column_stack([lifex_survival_best.index, lifex_survival_best, pyradiomics_survival_best.index,\n",
    "                     pyradiomics_survival_best, mazda_survival_best.index, mazda_survival_best]),\n",
    "    columns=['LifeX Features', 'LifeX Values', 'Pyradiomics Features',\n",
    "             'Pyradiomics Values', 'MaZda Features', 'MaZda Values']\n",
    ")\n",
    "survival_results"
   ]
  },
  {
   "cell_type": "code",
   "execution_count": null,
   "metadata": {},
   "outputs": [],
   "source": []
  }
 ],
 "metadata": {
  "kernelspec": {
   "display_name": "Python 3",
   "language": "python",
   "name": "python3"
  },
  "language_info": {
   "codemirror_mode": {
    "name": "ipython",
    "version": 3
   },
   "file_extension": ".py",
   "mimetype": "text/x-python",
   "name": "python",
   "nbconvert_exporter": "python",
   "pygments_lexer": "ipython3",
   "version": "3.7.7"
  }
 },
 "nbformat": 4,
 "nbformat_minor": 4
}
