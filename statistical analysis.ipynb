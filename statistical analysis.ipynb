{
 "cells": [
  {
   "cell_type": "code",
   "execution_count": 1,
   "metadata": {},
   "outputs": [],
   "source": [
    "import pandas as pd\n",
    "import numpy as np\n",
    "import os"
   ]
  },
  {
   "cell_type": "code",
   "execution_count": 2,
   "metadata": {},
   "outputs": [
    {
     "data": {
      "text/plain": [
       "'/home/manos/git/radiomics-features-extraction'"
      ]
     },
     "execution_count": 2,
     "metadata": {},
     "output_type": "execute_result"
    }
   ],
   "source": [
    "root = !pwd\n",
    "root = root[0]\n",
    "root"
   ]
  },
  {
   "cell_type": "code",
   "execution_count": 11,
   "metadata": {},
   "outputs": [],
   "source": [
    "def find_best_ten(path):\n",
    "    # Get the file as datafram\n",
    "    df = pd.read_pickle(os.path.join(path))\n",
    "\n",
    "    df.columns = selected_features\n",
    "    \n",
    "    # Get the last row and sort its columns\n",
    "    df = df[-1:].min().sort_values(ascending=True)\n",
    "    # Get 10 minimum values\n",
    "    return df[:10] #df[df < 0.05][:10] "
   ]
  },
  {
   "cell_type": "code",
   "execution_count": 12,
   "metadata": {},
   "outputs": [],
   "source": [
    "def find_common_features(df):\n",
    "    df1 = df.loc[:,'LifeX Features':'LifeX Values']\n",
    "    df1.columns = ['Feature', 'Value']\n",
    "\n",
    "    df2 = df.loc[:,'Pyradiomics Features':'Pyradiomics Values']\n",
    "    df2.columns = ['Feature', 'Value']\n",
    "\n",
    "    df3 = df.loc[:,'MaZda Features':'MaZda Values']\n",
    "    df3.columns = ['Feature', 'Value']\n",
    "\n",
    "    col1 = pd.merge(df1, df2, on=['Feature'])\n",
    "    col1.columns = ['Feature', 'LifeX', 'Pyradiomics']\n",
    "\n",
    "    col2 = pd.merge(df1, df3, on=['Feature'])\n",
    "    col2.columns = ['Feature', 'LifeX', 'MaZda']\n",
    "\n",
    "    col3 = pd.merge(df2, df3,on=['Feature'])\n",
    "    col3.columns = ['Feature', 'Pyradiomics', 'MaZda']\n",
    "\n",
    "    commons = pd.concat([col1,col2,col3], axis=0)\n",
    "    commons.set_index('Feature', inplace=True)\n",
    "#     commons.groupby(by='Feature', axis=1)\n",
    "    \n",
    "    return commons"
   ]
  },
  {
   "cell_type": "code",
   "execution_count": 13,
   "metadata": {},
   "outputs": [],
   "source": [
    "selected_features = pd.read_excel(os.path.join(root,'info','info.xlsx'), usecols='B', skiprows=[34,35,36,37])\n",
    "selected_features = selected_features.dropna().values.flatten()"
   ]
  },
  {
   "cell_type": "markdown",
   "metadata": {},
   "source": [
    "# Results\n",
    "For each software find the best 10 p-values"
   ]
  },
  {
   "cell_type": "markdown",
   "metadata": {},
   "source": [
    "## EGFR"
   ]
  },
  {
   "cell_type": "code",
   "execution_count": 14,
   "metadata": {},
   "outputs": [
    {
     "data": {
      "text/plain": [
       "GLRLM Short Run High Gray Level Emphasis    0.041553\n",
       "GLRLM High Gray Level Run Emphasis          0.058563\n",
       "Mean Intensity                              0.111887\n",
       "Discretised intensity skewness              0.138835\n",
       "GLCM correlation                            0.186879\n",
       "GLCM contrast                               0.265536\n",
       "NGTDM coarseness                            0.320856\n",
       "GLCM dissimilarity                          0.345478\n",
       "NGTDM busyness                              0.427796\n",
       "GLRLM Long Run High Gray Level Emphasis     0.429132\n",
       "dtype: float64"
      ]
     },
     "execution_count": 14,
     "metadata": {},
     "output_type": "execute_result"
    }
   ],
   "source": [
    "lifex_egfr_best = find_best_ten(os.path.join(root, 'LifeX','data', 'statistical-analysis', 'full_ANOVA-EGFR: best1 0.05.pkl'))\n",
    "lifex_egfr_best"
   ]
  },
  {
   "cell_type": "code",
   "execution_count": 16,
   "metadata": {},
   "outputs": [
    {
     "data": {
      "text/plain": [
       "GLRLM Short Run High Gray Level Emphasis    0.040452\n",
       "GLRLM High Gray Level Run Emphasis          0.058063\n",
       "NGTDM contrast                              0.108237\n",
       "Mean Intensity                              0.112445\n",
       "Discretised intensity skewness              0.139091\n",
       "GLCM correlation                            0.188720\n",
       "NGTDM coarseness                            0.202190\n",
       "GLCM inverse difference                     0.226477\n",
       "GLCM contrast                               0.271943\n",
       "GLCM dissimilarity                          0.349379\n",
       "dtype: float64"
      ]
     },
     "execution_count": 16,
     "metadata": {},
     "output_type": "execute_result"
    }
   ],
   "source": [
    "pyradiomics_egfr_best = find_best_ten(os.path.join(root, 'pyradiomics','data', 'statistical-analysis', 'full_ANOVA-EGFR: best1 0.05.pkl'))\n",
    "pyradiomics_egfr_best"
   ]
  },
  {
   "cell_type": "code",
   "execution_count": 373,
   "metadata": {},
   "outputs": [
    {
     "data": {
      "text/plain": [
       "Mean Intensity                     0.002295\n",
       "GLRLM Short Run Emphasis           0.014528\n",
       "GLCM inverse difference            0.071632\n",
       "GLCM contrast                      0.094786\n",
       "GLCM angular second moment         0.103265\n",
       "GLRLM Run Length Non Uniformity    0.108677\n",
       "GLCM joint entropy                 0.121058\n",
       "GLCM correlation                   0.237104\n",
       "GLRLM Gray Level Non Uniformity    0.321149\n",
       "GLRLM Long Run Emphasis            0.749323\n",
       "dtype: float64"
      ]
     },
     "execution_count": 373,
     "metadata": {},
     "output_type": "execute_result"
    }
   ],
   "source": [
    "mazda_egfr_best = find_best_ten(os.path.join(root, 'MaZda','data', 'statistical-analysis', 'full_ANOVA-EGFR: best2 0.05.pkl'))\n",
    "mazda_egfr_best"
   ]
  },
  {
   "cell_type": "code",
   "execution_count": 374,
   "metadata": {
    "scrolled": true
   },
   "outputs": [],
   "source": [
    "egfr_results = pd.DataFrame(\n",
    "    np.column_stack([lifex_egfr_best.index, lifex_egfr_best, pyradiomics_egfr_best.index,\n",
    "                     pyradiomics_egfr_best, mazda_egfr_best.index, mazda_egfr_best]),\n",
    "    columns=['LifeX Features', 'LifeX Values', 'Pyradiomics Features',\n",
    "             'Pyradiomics Values', 'MaZda Features', 'MaZda Values']\n",
    ")"
   ]
  },
  {
   "cell_type": "code",
   "execution_count": 375,
   "metadata": {},
   "outputs": [
    {
     "data": {
      "text/html": [
       "<div>\n",
       "<style scoped>\n",
       "    .dataframe tbody tr th:only-of-type {\n",
       "        vertical-align: middle;\n",
       "    }\n",
       "\n",
       "    .dataframe tbody tr th {\n",
       "        vertical-align: top;\n",
       "    }\n",
       "\n",
       "    .dataframe thead th {\n",
       "        text-align: right;\n",
       "    }\n",
       "</style>\n",
       "<table border=\"1\" class=\"dataframe\">\n",
       "  <thead>\n",
       "    <tr style=\"text-align: right;\">\n",
       "      <th></th>\n",
       "      <th>LifeX</th>\n",
       "      <th>Pyradiomics</th>\n",
       "      <th>MaZda</th>\n",
       "    </tr>\n",
       "    <tr>\n",
       "      <th>Feature</th>\n",
       "      <th></th>\n",
       "      <th></th>\n",
       "      <th></th>\n",
       "    </tr>\n",
       "  </thead>\n",
       "  <tbody>\n",
       "    <tr>\n",
       "      <th>GLRLM Short Run High Gray Level Emphasis</th>\n",
       "      <td>0.0415529</td>\n",
       "      <td>0.0404525</td>\n",
       "      <td>NaN</td>\n",
       "    </tr>\n",
       "    <tr>\n",
       "      <th>GLRLM High Gray Level Run Emphasis</th>\n",
       "      <td>0.0585632</td>\n",
       "      <td>0.0580626</td>\n",
       "      <td>NaN</td>\n",
       "    </tr>\n",
       "    <tr>\n",
       "      <th>Mean Intensity</th>\n",
       "      <td>0.111887</td>\n",
       "      <td>0.112445</td>\n",
       "      <td>NaN</td>\n",
       "    </tr>\n",
       "    <tr>\n",
       "      <th>Discretised intensity skewness</th>\n",
       "      <td>0.138835</td>\n",
       "      <td>0.139091</td>\n",
       "      <td>NaN</td>\n",
       "    </tr>\n",
       "    <tr>\n",
       "      <th>GLCM correlation</th>\n",
       "      <td>0.186879</td>\n",
       "      <td>0.18872</td>\n",
       "      <td>NaN</td>\n",
       "    </tr>\n",
       "    <tr>\n",
       "      <th>GLCM contrast</th>\n",
       "      <td>0.265536</td>\n",
       "      <td>0.271943</td>\n",
       "      <td>NaN</td>\n",
       "    </tr>\n",
       "    <tr>\n",
       "      <th>NGTDM coarseness</th>\n",
       "      <td>0.320856</td>\n",
       "      <td>0.20219</td>\n",
       "      <td>NaN</td>\n",
       "    </tr>\n",
       "    <tr>\n",
       "      <th>GLCM dissimilarity</th>\n",
       "      <td>0.345478</td>\n",
       "      <td>0.349379</td>\n",
       "      <td>NaN</td>\n",
       "    </tr>\n",
       "    <tr>\n",
       "      <th>Mean Intensity</th>\n",
       "      <td>0.111887</td>\n",
       "      <td>NaN</td>\n",
       "      <td>0.00229534</td>\n",
       "    </tr>\n",
       "    <tr>\n",
       "      <th>GLCM correlation</th>\n",
       "      <td>0.186879</td>\n",
       "      <td>NaN</td>\n",
       "      <td>0.237104</td>\n",
       "    </tr>\n",
       "    <tr>\n",
       "      <th>GLCM contrast</th>\n",
       "      <td>0.265536</td>\n",
       "      <td>NaN</td>\n",
       "      <td>0.0947859</td>\n",
       "    </tr>\n",
       "    <tr>\n",
       "      <th>Mean Intensity</th>\n",
       "      <td>NaN</td>\n",
       "      <td>0.112445</td>\n",
       "      <td>0.00229534</td>\n",
       "    </tr>\n",
       "    <tr>\n",
       "      <th>GLCM correlation</th>\n",
       "      <td>NaN</td>\n",
       "      <td>0.18872</td>\n",
       "      <td>0.237104</td>\n",
       "    </tr>\n",
       "    <tr>\n",
       "      <th>GLCM inverse difference</th>\n",
       "      <td>NaN</td>\n",
       "      <td>0.226477</td>\n",
       "      <td>0.0716316</td>\n",
       "    </tr>\n",
       "    <tr>\n",
       "      <th>GLCM contrast</th>\n",
       "      <td>NaN</td>\n",
       "      <td>0.271943</td>\n",
       "      <td>0.0947859</td>\n",
       "    </tr>\n",
       "  </tbody>\n",
       "</table>\n",
       "</div>"
      ],
      "text/plain": [
       "                                              LifeX Pyradiomics       MaZda\n",
       "Feature                                                                    \n",
       "GLRLM Short Run High Gray Level Emphasis  0.0415529   0.0404525         NaN\n",
       "GLRLM High Gray Level Run Emphasis        0.0585632   0.0580626         NaN\n",
       "Mean Intensity                             0.111887    0.112445         NaN\n",
       "Discretised intensity skewness             0.138835    0.139091         NaN\n",
       "GLCM correlation                           0.186879     0.18872         NaN\n",
       "GLCM contrast                              0.265536    0.271943         NaN\n",
       "NGTDM coarseness                           0.320856     0.20219         NaN\n",
       "GLCM dissimilarity                         0.345478    0.349379         NaN\n",
       "Mean Intensity                             0.111887         NaN  0.00229534\n",
       "GLCM correlation                           0.186879         NaN    0.237104\n",
       "GLCM contrast                              0.265536         NaN   0.0947859\n",
       "Mean Intensity                                  NaN    0.112445  0.00229534\n",
       "GLCM correlation                                NaN     0.18872    0.237104\n",
       "GLCM inverse difference                         NaN    0.226477   0.0716316\n",
       "GLCM contrast                                   NaN    0.271943   0.0947859"
      ]
     },
     "execution_count": 375,
     "metadata": {},
     "output_type": "execute_result"
    }
   ],
   "source": [
    "egfr_commons = find_common_features(egfr_results)\n",
    "egfr_commons.to_excel('egfr_statistical_results.xlsx')\n",
    "egfr_commons"
   ]
  },
  {
   "cell_type": "markdown",
   "metadata": {},
   "source": [
    "## KRAS"
   ]
  },
  {
   "cell_type": "code",
   "execution_count": 376,
   "metadata": {},
   "outputs": [
    {
     "data": {
      "text/plain": [
       "GLRLM Short Run Low Gray Level Emphasis    0.054477\n",
       "GLCM contrast                              0.068137\n",
       "GLRLM Low Gray Level Run Emphasis          0.074786\n",
       "GLCM dissimilarity                         0.084583\n",
       "GLCM inverse difference                    0.173389\n",
       "GLRLM Short Run Emphasis                   0.193950\n",
       "GLRLM Run Percentage                       0.208457\n",
       "GLRLM Long Run Emphasis                    0.257924\n",
       "GLRLM Long Run Low Gray Level Emphasis     0.277955\n",
       "GLCM correlation                           0.283662\n",
       "dtype: float64"
      ]
     },
     "execution_count": 376,
     "metadata": {},
     "output_type": "execute_result"
    }
   ],
   "source": [
    "lifex_kras_best = find_best_ten(os.path.join(root, 'LifeX','data', 'statistical-analysis', 'full_ANOVA-KRAS: best0 0.05.pkl'))\n",
    "lifex_kras_best"
   ]
  },
  {
   "cell_type": "code",
   "execution_count": 377,
   "metadata": {},
   "outputs": [
    {
     "data": {
      "text/plain": [
       "GLCM inverse difference                    0.039038\n",
       "GLRLM Short Run Low Gray Level Emphasis    0.053383\n",
       "GLCM contrast                              0.071304\n",
       "GLRLM Low Gray Level Run Emphasis          0.073587\n",
       "NGTDM contrast                             0.077962\n",
       "GLCM dissimilarity                         0.087450\n",
       "GLRLM Short Run Emphasis                   0.188357\n",
       "GLRLM Run Percentage                       0.199206\n",
       "GLRLM Long Run Emphasis                    0.241412\n",
       "GLRLM Long Run Low Gray Level Emphasis     0.273403\n",
       "dtype: float64"
      ]
     },
     "execution_count": 377,
     "metadata": {},
     "output_type": "execute_result"
    }
   ],
   "source": [
    "pyradiomics_kras_best = find_best_ten(os.path.join(root, 'pyradiomics','data', 'statistical-analysis', 'full_ANOVA-KRAS: best1 0.05.pkl'))\n",
    "pyradiomics_kras_best"
   ]
  },
  {
   "cell_type": "code",
   "execution_count": 378,
   "metadata": {},
   "outputs": [
    {
     "data": {
      "text/plain": [
       "Mean Intensity                     0.260381\n",
       "GLCM joint entropy                 0.312287\n",
       "GLCM angular second moment         0.327748\n",
       "Kurtosis                           0.328143\n",
       "GLCM inverse difference            0.338730\n",
       "GLRLM Gray Level Non Uniformity    0.375513\n",
       "GLCM correlation                   0.430989\n",
       "GLCM contrast                      0.437154\n",
       "GLRLM Short Run Emphasis           0.489502\n",
       "Discretised intensity skewness     0.574371\n",
       "dtype: float64"
      ]
     },
     "execution_count": 378,
     "metadata": {},
     "output_type": "execute_result"
    }
   ],
   "source": [
    "mazda_kras_best = find_best_ten(os.path.join(root, 'MaZda','data', 'statistical-analysis', 'full_ANOVA-KRAS: best0 0.05.pkl'))\n",
    "mazda_kras_best"
   ]
  },
  {
   "cell_type": "code",
   "execution_count": 379,
   "metadata": {},
   "outputs": [],
   "source": [
    "kras_results = pd.DataFrame(\n",
    "    np.column_stack([lifex_kras_best.index, lifex_kras_best, pyradiomics_kras_best.index,\n",
    "                     pyradiomics_kras_best, mazda_kras_best.index, mazda_kras_best]),\n",
    "    columns=['LifeX Features', 'LifeX Values', 'Pyradiomics Features',\n",
    "             'Pyradiomics Values', 'MaZda Features', 'MaZda Values']\n",
    ")"
   ]
  },
  {
   "cell_type": "code",
   "execution_count": 380,
   "metadata": {},
   "outputs": [
    {
     "data": {
      "text/html": [
       "<div>\n",
       "<style scoped>\n",
       "    .dataframe tbody tr th:only-of-type {\n",
       "        vertical-align: middle;\n",
       "    }\n",
       "\n",
       "    .dataframe tbody tr th {\n",
       "        vertical-align: top;\n",
       "    }\n",
       "\n",
       "    .dataframe thead th {\n",
       "        text-align: right;\n",
       "    }\n",
       "</style>\n",
       "<table border=\"1\" class=\"dataframe\">\n",
       "  <thead>\n",
       "    <tr style=\"text-align: right;\">\n",
       "      <th></th>\n",
       "      <th>LifeX</th>\n",
       "      <th>Pyradiomics</th>\n",
       "      <th>MaZda</th>\n",
       "    </tr>\n",
       "    <tr>\n",
       "      <th>Feature</th>\n",
       "      <th></th>\n",
       "      <th></th>\n",
       "      <th></th>\n",
       "    </tr>\n",
       "  </thead>\n",
       "  <tbody>\n",
       "    <tr>\n",
       "      <th>GLRLM Short Run Low Gray Level Emphasis</th>\n",
       "      <td>0.0544774</td>\n",
       "      <td>0.0533828</td>\n",
       "      <td>NaN</td>\n",
       "    </tr>\n",
       "    <tr>\n",
       "      <th>GLCM contrast</th>\n",
       "      <td>0.068137</td>\n",
       "      <td>0.0713039</td>\n",
       "      <td>NaN</td>\n",
       "    </tr>\n",
       "    <tr>\n",
       "      <th>GLRLM Low Gray Level Run Emphasis</th>\n",
       "      <td>0.0747862</td>\n",
       "      <td>0.0735871</td>\n",
       "      <td>NaN</td>\n",
       "    </tr>\n",
       "    <tr>\n",
       "      <th>GLCM dissimilarity</th>\n",
       "      <td>0.0845835</td>\n",
       "      <td>0.0874497</td>\n",
       "      <td>NaN</td>\n",
       "    </tr>\n",
       "    <tr>\n",
       "      <th>GLCM inverse difference</th>\n",
       "      <td>0.173389</td>\n",
       "      <td>0.0390377</td>\n",
       "      <td>NaN</td>\n",
       "    </tr>\n",
       "    <tr>\n",
       "      <th>GLRLM Short Run Emphasis</th>\n",
       "      <td>0.19395</td>\n",
       "      <td>0.188357</td>\n",
       "      <td>NaN</td>\n",
       "    </tr>\n",
       "    <tr>\n",
       "      <th>GLRLM Run Percentage</th>\n",
       "      <td>0.208457</td>\n",
       "      <td>0.199206</td>\n",
       "      <td>NaN</td>\n",
       "    </tr>\n",
       "    <tr>\n",
       "      <th>GLRLM Long Run Emphasis</th>\n",
       "      <td>0.257924</td>\n",
       "      <td>0.241412</td>\n",
       "      <td>NaN</td>\n",
       "    </tr>\n",
       "    <tr>\n",
       "      <th>GLRLM Long Run Low Gray Level Emphasis</th>\n",
       "      <td>0.277955</td>\n",
       "      <td>0.273403</td>\n",
       "      <td>NaN</td>\n",
       "    </tr>\n",
       "    <tr>\n",
       "      <th>GLCM contrast</th>\n",
       "      <td>0.068137</td>\n",
       "      <td>NaN</td>\n",
       "      <td>0.437154</td>\n",
       "    </tr>\n",
       "    <tr>\n",
       "      <th>GLCM inverse difference</th>\n",
       "      <td>0.173389</td>\n",
       "      <td>NaN</td>\n",
       "      <td>0.33873</td>\n",
       "    </tr>\n",
       "    <tr>\n",
       "      <th>GLRLM Short Run Emphasis</th>\n",
       "      <td>0.19395</td>\n",
       "      <td>NaN</td>\n",
       "      <td>0.489502</td>\n",
       "    </tr>\n",
       "    <tr>\n",
       "      <th>GLCM correlation</th>\n",
       "      <td>0.283662</td>\n",
       "      <td>NaN</td>\n",
       "      <td>0.430989</td>\n",
       "    </tr>\n",
       "    <tr>\n",
       "      <th>GLCM inverse difference</th>\n",
       "      <td>NaN</td>\n",
       "      <td>0.0390377</td>\n",
       "      <td>0.33873</td>\n",
       "    </tr>\n",
       "    <tr>\n",
       "      <th>GLCM contrast</th>\n",
       "      <td>NaN</td>\n",
       "      <td>0.0713039</td>\n",
       "      <td>0.437154</td>\n",
       "    </tr>\n",
       "    <tr>\n",
       "      <th>GLRLM Short Run Emphasis</th>\n",
       "      <td>NaN</td>\n",
       "      <td>0.188357</td>\n",
       "      <td>0.489502</td>\n",
       "    </tr>\n",
       "  </tbody>\n",
       "</table>\n",
       "</div>"
      ],
      "text/plain": [
       "                                             LifeX Pyradiomics     MaZda\n",
       "Feature                                                                 \n",
       "GLRLM Short Run Low Gray Level Emphasis  0.0544774   0.0533828       NaN\n",
       "GLCM contrast                             0.068137   0.0713039       NaN\n",
       "GLRLM Low Gray Level Run Emphasis        0.0747862   0.0735871       NaN\n",
       "GLCM dissimilarity                       0.0845835   0.0874497       NaN\n",
       "GLCM inverse difference                   0.173389   0.0390377       NaN\n",
       "GLRLM Short Run Emphasis                   0.19395    0.188357       NaN\n",
       "GLRLM Run Percentage                      0.208457    0.199206       NaN\n",
       "GLRLM Long Run Emphasis                   0.257924    0.241412       NaN\n",
       "GLRLM Long Run Low Gray Level Emphasis    0.277955    0.273403       NaN\n",
       "GLCM contrast                             0.068137         NaN  0.437154\n",
       "GLCM inverse difference                   0.173389         NaN   0.33873\n",
       "GLRLM Short Run Emphasis                   0.19395         NaN  0.489502\n",
       "GLCM correlation                          0.283662         NaN  0.430989\n",
       "GLCM inverse difference                        NaN   0.0390377   0.33873\n",
       "GLCM contrast                                  NaN   0.0713039  0.437154\n",
       "GLRLM Short Run Emphasis                       NaN    0.188357  0.489502"
      ]
     },
     "execution_count": 380,
     "metadata": {},
     "output_type": "execute_result"
    }
   ],
   "source": [
    "kras_commons = find_common_features(kras_results)\n",
    "kras_commons.to_excel('kras_statistical_results.xlsx')\n",
    "kras_commons"
   ]
  },
  {
   "cell_type": "markdown",
   "metadata": {},
   "source": [
    "## SUBTYPES"
   ]
  },
  {
   "cell_type": "code",
   "execution_count": 381,
   "metadata": {},
   "outputs": [
    {
     "data": {
      "text/plain": [
       "GLRLM High Gray Level Run Emphasis          0.002265\n",
       "GLRLM Short Run High Gray Level Emphasis    0.002473\n",
       "Mean Intensity                              0.006470\n",
       "GLRLM Long Run High Gray Level Emphasis     0.008163\n",
       "Discretised intensity skewness              0.008214\n",
       "Surface area (mesh)                         0.036523\n",
       "GLCM angular second moment                  0.153451\n",
       "GLCM contrast                               0.214502\n",
       "GLRLM Long Run Emphasis                     0.307338\n",
       "GLRLM Short Run Low Gray Level Emphasis     0.383624\n",
       "dtype: float64"
      ]
     },
     "execution_count": 381,
     "metadata": {},
     "output_type": "execute_result"
    }
   ],
   "source": [
    "lifex_subtypes_best = find_best_ten(os.path.join(root, 'LifeX','data', 'statistical-analysis', 'full_ANOVA-SUBTYPES: best6 0.05.pkl'))\n",
    "lifex_subtypes_best"
   ]
  },
  {
   "cell_type": "code",
   "execution_count": 382,
   "metadata": {},
   "outputs": [
    {
     "data": {
      "text/plain": [
       "GLRLM High Gray Level Run Emphasis          0.002166\n",
       "GLRLM Short Run High Gray Level Emphasis    0.002369\n",
       "Mean Intensity                              0.006398\n",
       "Discretised intensity skewness              0.008153\n",
       "GLRLM Long Run High Gray Level Emphasis     0.008920\n",
       "Surface area (mesh)                         0.036401\n",
       "volume (voxel counting)                     0.113684\n",
       "GLCM angular second moment                  0.174576\n",
       "GLCM contrast                               0.211600\n",
       "GLRLM Long Run Emphasis                     0.339793\n",
       "dtype: float64"
      ]
     },
     "execution_count": 382,
     "metadata": {},
     "output_type": "execute_result"
    }
   ],
   "source": [
    "pyradiomics_subtypes_best = find_best_ten(os.path.join(root, 'pyradiomics','data', 'statistical-analysis', 'full_ANOVA-SUBTYPES: best6 0.05.pkl'))\n",
    "pyradiomics_subtypes_best"
   ]
  },
  {
   "cell_type": "code",
   "execution_count": 383,
   "metadata": {},
   "outputs": [
    {
     "data": {
      "text/plain": [
       "Discretised intensity skewness     0.065567\n",
       "GLRLM Gray Level Non Uniformity    0.071633\n",
       "GLRLM Long Run Emphasis            0.075720\n",
       "Mean Intensity                     0.125863\n",
       "GLCM joint entropy                 0.126666\n",
       "GLCM correlation                   0.127431\n",
       "GLCM angular second moment         0.135443\n",
       "GLCM inverse difference            0.155991\n",
       "GLCM contrast                      0.164261\n",
       "GLRLM Short Run Emphasis           0.663332\n",
       "dtype: float64"
      ]
     },
     "execution_count": 383,
     "metadata": {},
     "output_type": "execute_result"
    }
   ],
   "source": [
    "mazda_subtypes_best = find_best_ten(os.path.join(root, 'MaZda','data', 'statistical-analysis', 'full_ANOVA-SUBTYPES: best0 0.05.pkl'))\n",
    "mazda_subtypes_best"
   ]
  },
  {
   "cell_type": "code",
   "execution_count": 384,
   "metadata": {},
   "outputs": [],
   "source": [
    "subtypes_results = pd.DataFrame(\n",
    "    np.column_stack([lifex_subtypes_best.index, lifex_subtypes_best, pyradiomics_subtypes_best.index,\n",
    "                     pyradiomics_subtypes_best, mazda_subtypes_best.index, mazda_subtypes_best]),\n",
    "    columns=['LifeX Features', 'LifeX Values', 'Pyradiomics Features',\n",
    "             'Pyradiomics Values', 'MaZda Features', 'MaZda Values']\n",
    ")"
   ]
  },
  {
   "cell_type": "code",
   "execution_count": 385,
   "metadata": {},
   "outputs": [
    {
     "data": {
      "text/html": [
       "<div>\n",
       "<style scoped>\n",
       "    .dataframe tbody tr th:only-of-type {\n",
       "        vertical-align: middle;\n",
       "    }\n",
       "\n",
       "    .dataframe tbody tr th {\n",
       "        vertical-align: top;\n",
       "    }\n",
       "\n",
       "    .dataframe thead th {\n",
       "        text-align: right;\n",
       "    }\n",
       "</style>\n",
       "<table border=\"1\" class=\"dataframe\">\n",
       "  <thead>\n",
       "    <tr style=\"text-align: right;\">\n",
       "      <th></th>\n",
       "      <th>LifeX</th>\n",
       "      <th>Pyradiomics</th>\n",
       "      <th>MaZda</th>\n",
       "    </tr>\n",
       "    <tr>\n",
       "      <th>Feature</th>\n",
       "      <th></th>\n",
       "      <th></th>\n",
       "      <th></th>\n",
       "    </tr>\n",
       "  </thead>\n",
       "  <tbody>\n",
       "    <tr>\n",
       "      <th>GLRLM High Gray Level Run Emphasis</th>\n",
       "      <td>0.00226453</td>\n",
       "      <td>0.00216584</td>\n",
       "      <td>NaN</td>\n",
       "    </tr>\n",
       "    <tr>\n",
       "      <th>GLRLM Short Run High Gray Level Emphasis</th>\n",
       "      <td>0.00247328</td>\n",
       "      <td>0.00236893</td>\n",
       "      <td>NaN</td>\n",
       "    </tr>\n",
       "    <tr>\n",
       "      <th>Mean Intensity</th>\n",
       "      <td>0.00646975</td>\n",
       "      <td>0.00639788</td>\n",
       "      <td>NaN</td>\n",
       "    </tr>\n",
       "    <tr>\n",
       "      <th>GLRLM Long Run High Gray Level Emphasis</th>\n",
       "      <td>0.00816273</td>\n",
       "      <td>0.00891966</td>\n",
       "      <td>NaN</td>\n",
       "    </tr>\n",
       "    <tr>\n",
       "      <th>Discretised intensity skewness</th>\n",
       "      <td>0.0082144</td>\n",
       "      <td>0.00815286</td>\n",
       "      <td>NaN</td>\n",
       "    </tr>\n",
       "    <tr>\n",
       "      <th>Surface area (mesh)</th>\n",
       "      <td>0.0365225</td>\n",
       "      <td>0.0364015</td>\n",
       "      <td>NaN</td>\n",
       "    </tr>\n",
       "    <tr>\n",
       "      <th>GLCM angular second moment</th>\n",
       "      <td>0.153451</td>\n",
       "      <td>0.174576</td>\n",
       "      <td>NaN</td>\n",
       "    </tr>\n",
       "    <tr>\n",
       "      <th>GLCM contrast</th>\n",
       "      <td>0.214502</td>\n",
       "      <td>0.2116</td>\n",
       "      <td>NaN</td>\n",
       "    </tr>\n",
       "    <tr>\n",
       "      <th>GLRLM Long Run Emphasis</th>\n",
       "      <td>0.307338</td>\n",
       "      <td>0.339793</td>\n",
       "      <td>NaN</td>\n",
       "    </tr>\n",
       "    <tr>\n",
       "      <th>Mean Intensity</th>\n",
       "      <td>0.00646975</td>\n",
       "      <td>NaN</td>\n",
       "      <td>0.125863</td>\n",
       "    </tr>\n",
       "    <tr>\n",
       "      <th>Discretised intensity skewness</th>\n",
       "      <td>0.0082144</td>\n",
       "      <td>NaN</td>\n",
       "      <td>0.0655674</td>\n",
       "    </tr>\n",
       "    <tr>\n",
       "      <th>GLCM angular second moment</th>\n",
       "      <td>0.153451</td>\n",
       "      <td>NaN</td>\n",
       "      <td>0.135443</td>\n",
       "    </tr>\n",
       "    <tr>\n",
       "      <th>GLCM contrast</th>\n",
       "      <td>0.214502</td>\n",
       "      <td>NaN</td>\n",
       "      <td>0.164261</td>\n",
       "    </tr>\n",
       "    <tr>\n",
       "      <th>GLRLM Long Run Emphasis</th>\n",
       "      <td>0.307338</td>\n",
       "      <td>NaN</td>\n",
       "      <td>0.0757197</td>\n",
       "    </tr>\n",
       "    <tr>\n",
       "      <th>Mean Intensity</th>\n",
       "      <td>NaN</td>\n",
       "      <td>0.00639788</td>\n",
       "      <td>0.125863</td>\n",
       "    </tr>\n",
       "    <tr>\n",
       "      <th>Discretised intensity skewness</th>\n",
       "      <td>NaN</td>\n",
       "      <td>0.00815286</td>\n",
       "      <td>0.0655674</td>\n",
       "    </tr>\n",
       "    <tr>\n",
       "      <th>GLCM angular second moment</th>\n",
       "      <td>NaN</td>\n",
       "      <td>0.174576</td>\n",
       "      <td>0.135443</td>\n",
       "    </tr>\n",
       "    <tr>\n",
       "      <th>GLCM contrast</th>\n",
       "      <td>NaN</td>\n",
       "      <td>0.2116</td>\n",
       "      <td>0.164261</td>\n",
       "    </tr>\n",
       "    <tr>\n",
       "      <th>GLRLM Long Run Emphasis</th>\n",
       "      <td>NaN</td>\n",
       "      <td>0.339793</td>\n",
       "      <td>0.0757197</td>\n",
       "    </tr>\n",
       "  </tbody>\n",
       "</table>\n",
       "</div>"
      ],
      "text/plain": [
       "                                               LifeX Pyradiomics      MaZda\n",
       "Feature                                                                    \n",
       "GLRLM High Gray Level Run Emphasis        0.00226453  0.00216584        NaN\n",
       "GLRLM Short Run High Gray Level Emphasis  0.00247328  0.00236893        NaN\n",
       "Mean Intensity                            0.00646975  0.00639788        NaN\n",
       "GLRLM Long Run High Gray Level Emphasis   0.00816273  0.00891966        NaN\n",
       "Discretised intensity skewness             0.0082144  0.00815286        NaN\n",
       "Surface area (mesh)                        0.0365225   0.0364015        NaN\n",
       "GLCM angular second moment                  0.153451    0.174576        NaN\n",
       "GLCM contrast                               0.214502      0.2116        NaN\n",
       "GLRLM Long Run Emphasis                     0.307338    0.339793        NaN\n",
       "Mean Intensity                            0.00646975         NaN   0.125863\n",
       "Discretised intensity skewness             0.0082144         NaN  0.0655674\n",
       "GLCM angular second moment                  0.153451         NaN   0.135443\n",
       "GLCM contrast                               0.214502         NaN   0.164261\n",
       "GLRLM Long Run Emphasis                     0.307338         NaN  0.0757197\n",
       "Mean Intensity                                   NaN  0.00639788   0.125863\n",
       "Discretised intensity skewness                   NaN  0.00815286  0.0655674\n",
       "GLCM angular second moment                       NaN    0.174576   0.135443\n",
       "GLCM contrast                                    NaN      0.2116   0.164261\n",
       "GLRLM Long Run Emphasis                          NaN    0.339793  0.0757197"
      ]
     },
     "execution_count": 385,
     "metadata": {},
     "output_type": "execute_result"
    }
   ],
   "source": [
    "subtypes_commons = find_common_features(subtypes_results)\n",
    "subtypes_commons.to_excel('subtypes_statistical_results.xlsx')\n",
    "subtypes_commons"
   ]
  },
  {
   "cell_type": "markdown",
   "metadata": {},
   "source": [
    "## SURVIVAL"
   ]
  },
  {
   "cell_type": "code",
   "execution_count": 386,
   "metadata": {},
   "outputs": [
    {
     "data": {
      "text/plain": [
       "GLRLM Long Run High Gray Level Emphasis    0.005256\n",
       "Sphericity                                 0.016010\n",
       "GLRLM Long Run Emphasis                    0.022020\n",
       "GLRLM Run Percentage                       0.027234\n",
       "Maximum Intensity                          0.030481\n",
       "GLRLM Short Run Emphasis                   0.043199\n",
       "GLRLM High Gray Level Run Emphasis         0.055744\n",
       "volume (voxel counting)                    0.055768\n",
       "Minimum Intensity                          0.074641\n",
       "NGTDM coarseness                           0.079702\n",
       "dtype: float64"
      ]
     },
     "execution_count": 386,
     "metadata": {},
     "output_type": "execute_result"
    }
   ],
   "source": [
    "lifex_survival_best = find_best_ten(os.path.join(root, 'LifeX','data', 'statistical-analysis', 'full_ANOVA-SURVIVAL: best6 0.05.pkl'))\n",
    "lifex_survival_best"
   ]
  },
  {
   "cell_type": "code",
   "execution_count": 387,
   "metadata": {},
   "outputs": [
    {
     "data": {
      "text/plain": [
       "GLRLM Long Run High Gray Level Emphasis    0.005439\n",
       "Sphericity                                 0.015789\n",
       "GLRLM Long Run Emphasis                    0.021106\n",
       "GLRLM Run Percentage                       0.028642\n",
       "NGTDM coarseness                           0.031171\n",
       "Maximum Intensity                          0.032421\n",
       "GLRLM Short Run Emphasis                   0.045617\n",
       "GLRLM High Gray Level Run Emphasis         0.058906\n",
       "Minimum Intensity                          0.074641\n",
       "GLRLM Run Length Non Uniformity            0.087252\n",
       "dtype: float64"
      ]
     },
     "execution_count": 387,
     "metadata": {},
     "output_type": "execute_result"
    }
   ],
   "source": [
    "pyradiomics_survival_best = find_best_ten(os.path.join(root, 'pyradiomics','data', 'statistical-analysis', 'full_ANOVA-SURVIVAL: best7 0.05.pkl'))\n",
    "pyradiomics_survival_best"
   ]
  },
  {
   "cell_type": "code",
   "execution_count": 388,
   "metadata": {},
   "outputs": [
    {
     "data": {
      "text/plain": [
       "GLRLM Long Run Emphasis            0.109660\n",
       "GLCM inverse difference            0.270249\n",
       "GLCM joint entropy                 0.336009\n",
       "GLRLM Gray Level Non Uniformity    0.394689\n",
       "Discretised intensity skewness     0.446180\n",
       "GLCM angular second moment         0.457283\n",
       "GLCM contrast                      0.497322\n",
       "GLCM correlation                   0.619352\n",
       "GLRLM Short Run Emphasis           0.755350\n",
       "GLRLM Run Length Non Uniformity    0.841498\n",
       "dtype: float64"
      ]
     },
     "execution_count": 388,
     "metadata": {},
     "output_type": "execute_result"
    }
   ],
   "source": [
    "mazda_survival_best = find_best_ten(os.path.join(root, 'MaZda','data', 'statistical-analysis', 'full_ANOVA-SURVIVAL: best0 0.05.pkl'))\n",
    "mazda_survival_best"
   ]
  },
  {
   "cell_type": "code",
   "execution_count": 389,
   "metadata": {},
   "outputs": [],
   "source": [
    "survival_results = pd.DataFrame(\n",
    "    np.column_stack([lifex_survival_best.index, lifex_survival_best, pyradiomics_survival_best.index,\n",
    "                     pyradiomics_survival_best, mazda_survival_best.index, mazda_survival_best]),\n",
    "    columns=['LifeX Features', 'LifeX Values', 'Pyradiomics Features',\n",
    "             'Pyradiomics Values', 'MaZda Features', 'MaZda Values']\n",
    ")"
   ]
  },
  {
   "cell_type": "code",
   "execution_count": 390,
   "metadata": {},
   "outputs": [
    {
     "data": {
      "text/html": [
       "<div>\n",
       "<style scoped>\n",
       "    .dataframe tbody tr th:only-of-type {\n",
       "        vertical-align: middle;\n",
       "    }\n",
       "\n",
       "    .dataframe tbody tr th {\n",
       "        vertical-align: top;\n",
       "    }\n",
       "\n",
       "    .dataframe thead th {\n",
       "        text-align: right;\n",
       "    }\n",
       "</style>\n",
       "<table border=\"1\" class=\"dataframe\">\n",
       "  <thead>\n",
       "    <tr style=\"text-align: right;\">\n",
       "      <th></th>\n",
       "      <th>LifeX</th>\n",
       "      <th>Pyradiomics</th>\n",
       "      <th>MaZda</th>\n",
       "    </tr>\n",
       "    <tr>\n",
       "      <th>Feature</th>\n",
       "      <th></th>\n",
       "      <th></th>\n",
       "      <th></th>\n",
       "    </tr>\n",
       "  </thead>\n",
       "  <tbody>\n",
       "    <tr>\n",
       "      <th>GLRLM Long Run High Gray Level Emphasis</th>\n",
       "      <td>0.00525637</td>\n",
       "      <td>0.00543945</td>\n",
       "      <td>NaN</td>\n",
       "    </tr>\n",
       "    <tr>\n",
       "      <th>Sphericity</th>\n",
       "      <td>0.0160103</td>\n",
       "      <td>0.0157885</td>\n",
       "      <td>NaN</td>\n",
       "    </tr>\n",
       "    <tr>\n",
       "      <th>GLRLM Long Run Emphasis</th>\n",
       "      <td>0.0220198</td>\n",
       "      <td>0.0211063</td>\n",
       "      <td>NaN</td>\n",
       "    </tr>\n",
       "    <tr>\n",
       "      <th>GLRLM Run Percentage</th>\n",
       "      <td>0.0272342</td>\n",
       "      <td>0.0286418</td>\n",
       "      <td>NaN</td>\n",
       "    </tr>\n",
       "    <tr>\n",
       "      <th>Maximum Intensity</th>\n",
       "      <td>0.030481</td>\n",
       "      <td>0.0324212</td>\n",
       "      <td>NaN</td>\n",
       "    </tr>\n",
       "    <tr>\n",
       "      <th>GLRLM Short Run Emphasis</th>\n",
       "      <td>0.0431991</td>\n",
       "      <td>0.0456173</td>\n",
       "      <td>NaN</td>\n",
       "    </tr>\n",
       "    <tr>\n",
       "      <th>GLRLM High Gray Level Run Emphasis</th>\n",
       "      <td>0.0557442</td>\n",
       "      <td>0.0589055</td>\n",
       "      <td>NaN</td>\n",
       "    </tr>\n",
       "    <tr>\n",
       "      <th>Minimum Intensity</th>\n",
       "      <td>0.0746407</td>\n",
       "      <td>0.0746407</td>\n",
       "      <td>NaN</td>\n",
       "    </tr>\n",
       "    <tr>\n",
       "      <th>NGTDM coarseness</th>\n",
       "      <td>0.0797022</td>\n",
       "      <td>0.031171</td>\n",
       "      <td>NaN</td>\n",
       "    </tr>\n",
       "    <tr>\n",
       "      <th>GLRLM Long Run Emphasis</th>\n",
       "      <td>0.0220198</td>\n",
       "      <td>NaN</td>\n",
       "      <td>0.10966</td>\n",
       "    </tr>\n",
       "    <tr>\n",
       "      <th>GLRLM Short Run Emphasis</th>\n",
       "      <td>0.0431991</td>\n",
       "      <td>NaN</td>\n",
       "      <td>0.75535</td>\n",
       "    </tr>\n",
       "    <tr>\n",
       "      <th>GLRLM Long Run Emphasis</th>\n",
       "      <td>NaN</td>\n",
       "      <td>0.0211063</td>\n",
       "      <td>0.10966</td>\n",
       "    </tr>\n",
       "    <tr>\n",
       "      <th>GLRLM Short Run Emphasis</th>\n",
       "      <td>NaN</td>\n",
       "      <td>0.0456173</td>\n",
       "      <td>0.75535</td>\n",
       "    </tr>\n",
       "    <tr>\n",
       "      <th>GLRLM Run Length Non Uniformity</th>\n",
       "      <td>NaN</td>\n",
       "      <td>0.0872517</td>\n",
       "      <td>0.841498</td>\n",
       "    </tr>\n",
       "  </tbody>\n",
       "</table>\n",
       "</div>"
      ],
      "text/plain": [
       "                                              LifeX Pyradiomics     MaZda\n",
       "Feature                                                                  \n",
       "GLRLM Long Run High Gray Level Emphasis  0.00525637  0.00543945       NaN\n",
       "Sphericity                                0.0160103   0.0157885       NaN\n",
       "GLRLM Long Run Emphasis                   0.0220198   0.0211063       NaN\n",
       "GLRLM Run Percentage                      0.0272342   0.0286418       NaN\n",
       "Maximum Intensity                          0.030481   0.0324212       NaN\n",
       "GLRLM Short Run Emphasis                  0.0431991   0.0456173       NaN\n",
       "GLRLM High Gray Level Run Emphasis        0.0557442   0.0589055       NaN\n",
       "Minimum Intensity                         0.0746407   0.0746407       NaN\n",
       "NGTDM coarseness                          0.0797022    0.031171       NaN\n",
       "GLRLM Long Run Emphasis                   0.0220198         NaN   0.10966\n",
       "GLRLM Short Run Emphasis                  0.0431991         NaN   0.75535\n",
       "GLRLM Long Run Emphasis                         NaN   0.0211063   0.10966\n",
       "GLRLM Short Run Emphasis                        NaN   0.0456173   0.75535\n",
       "GLRLM Run Length Non Uniformity                 NaN   0.0872517  0.841498"
      ]
     },
     "execution_count": 390,
     "metadata": {},
     "output_type": "execute_result"
    }
   ],
   "source": [
    "survival_commons = find_common_features(survival_results)\n",
    "survival_commons.to_excel('survival_statistical_results.xlsx')\n",
    "survival_commons"
   ]
  },
  {
   "cell_type": "code",
   "execution_count": null,
   "metadata": {},
   "outputs": [],
   "source": []
  }
 ],
 "metadata": {
  "kernelspec": {
   "display_name": "Python 3",
   "language": "python",
   "name": "python3"
  },
  "language_info": {
   "codemirror_mode": {
    "name": "ipython",
    "version": 3
   },
   "file_extension": ".py",
   "mimetype": "text/x-python",
   "name": "python",
   "nbconvert_exporter": "python",
   "pygments_lexer": "ipython3",
   "version": "3.7.7"
  }
 },
 "nbformat": 4,
 "nbformat_minor": 4
}
